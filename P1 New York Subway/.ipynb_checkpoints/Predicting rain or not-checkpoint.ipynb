{
 "cells": [
  {
   "cell_type": "code",
   "execution_count": 2,
   "metadata": {
    "collapsed": true
   },
   "outputs": [],
   "source": [
    "import pandas\n",
    "import numpy as np\n",
    "from sklearn.cross_validation import cross_val_score,KFold\n",
    "from sklearn.ensemble import RandomForestRegressor, RandomForestClassifier\n",
    "from sklearn.metrics import f1_score"
   ]
  },
  {
   "cell_type": "code",
   "execution_count": 3,
   "metadata": {
    "collapsed": true
   },
   "outputs": [],
   "source": [
    "raw_dataframe=pandas.read_csv(\"./data/improved-dataset/turnstile_weather_v2.csv\")\n",
    "dataframe=raw_dataframe"
   ]
  },
  {
   "cell_type": "code",
   "execution_count": 4,
   "metadata": {
    "collapsed": false
   },
   "outputs": [
    {
     "name": "stdout",
     "output_type": "stream",
     "text": [
      "42649\n",
      "Index(['UNIT', 'DATEn', 'TIMEn', 'ENTRIESn', 'EXITSn', 'ENTRIESn_hourly',\n",
      "       'EXITSn_hourly', 'datetime', 'hour', 'day_week', 'weekday', 'station',\n",
      "       'latitude', 'longitude', 'conds', 'fog', 'precipi', 'pressurei', 'rain',\n",
      "       'tempi', 'wspdi', 'meanprecipi', 'meanpressurei', 'meantempi',\n",
      "       'meanwspdi', 'weather_lat', 'weather_lon'],\n",
      "      dtype='object')\n"
     ]
    }
   ],
   "source": [
    "print(raw_dataframe.shape[0])\n",
    "print(raw_dataframe.columns)"
   ]
  },
  {
   "cell_type": "code",
   "execution_count": null,
   "metadata": {
    "collapsed": true
   },
   "outputs": [],
   "source": [
    "### Prepare the features for training"
   ]
  },
  {
   "cell_type": "code",
   "execution_count": 5,
   "metadata": {
    "collapsed": true
   },
   "outputs": [],
   "source": [
    "selected_features=['tempi','pressurei','wspdi','precipi','fog','weekday']\n",
    "features_to_dummy=['hour']\n",
    "features = dataframe[[f for f in selected_features if f not in features_to_dummy]]\n",
    "\n",
    "total_dummy_feature_num=0\n",
    "for fd in features_to_dummy:\n",
    "\n",
    "    # Add UNIT to features using dummy variables\n",
    "    dummy_units = pandas.get_dummies(dataframe[fd], prefix=fd)\n",
    "    total_dummy_feature_num+=dummy_units.shape[1]\n",
    "    features = features.join(dummy_units)\n",
    "\n",
    "values = dataframe['rain']\n",
    "features_array=np.array(features)\n",
    "values_array=np.array(values)"
   ]
  },
  {
   "cell_type": "code",
   "execution_count": 10,
   "metadata": {
    "collapsed": true
   },
   "outputs": [],
   "source": [
    "### Run Random Forest classification"
   ]
  },
  {
   "cell_type": "code",
   "execution_count": 6,
   "metadata": {
    "collapsed": false
   },
   "outputs": [
    {
     "name": "stdout",
     "output_type": "stream",
     "text": [
      "tempi:0.275802996927\n",
      "pressurei:0.321916142408\n",
      "wspdi:0.131868563726\n",
      "precipi:0.187549968454\n",
      "fog:0.00355840279414\n",
      "weekday:0.0183373154633\n",
      "hour_0:0.00542648032208\n",
      "hour_4:0.00749252769201\n",
      "hour_8:0.00882840213311\n",
      "hour_12:0.00862782648236\n",
      "hour_16:0.0186737395874\n",
      "hour_20:0.0119176340121\n"
     ]
    }
   ],
   "source": [
    "rf=RandomForestClassifier()\n",
    "rf.fit(features_array,values_array)"
   ]
  },
  {
   "cell_type": "code",
   "execution_count": null,
   "metadata": {
    "collapsed": true
   },
   "outputs": [],
   "source": [
    "### Print the importances of each trained features:"
   ]
  },
  {
   "cell_type": "code",
   "execution_count": null,
   "metadata": {
    "collapsed": true
   },
   "outputs": [],
   "source": [
    "for i,r in enumerate(rf.feature_importances_):\n",
    "    print(features.columns[i]+\":\"+str(r))"
   ]
  },
  {
   "cell_type": "markdown",
   "metadata": {},
   "source": [
    "### Run cross validation, use f1 score as metric"
   ]
  },
  {
   "cell_type": "code",
   "execution_count": 9,
   "metadata": {
    "collapsed": false
   },
   "outputs": [
    {
     "name": "stdout",
     "output_type": "stream",
     "text": [
      "[ 0.99869758  1.          1.          0.99044175  0.98636481]\n"
     ]
    }
   ],
   "source": [
    "cs=cross_val_score(RandomForestClassifier(), features_array,values_array,cv=5,scoring='f1')\n",
    "print(cs)"
   ]
  },
  {
   "cell_type": "code",
   "execution_count": null,
   "metadata": {
    "collapsed": true
   },
   "outputs": [],
   "source": []
  }
 ],
 "metadata": {
  "kernelspec": {
   "display_name": "Python 3",
   "language": "python",
   "name": "python3"
  },
  "language_info": {
   "codemirror_mode": {
    "name": "ipython",
    "version": 3
   },
   "file_extension": ".py",
   "mimetype": "text/x-python",
   "name": "python",
   "nbconvert_exporter": "python",
   "pygments_lexer": "ipython3",
   "version": "3.4.2"
  }
 },
 "nbformat": 4,
 "nbformat_minor": 0
}
