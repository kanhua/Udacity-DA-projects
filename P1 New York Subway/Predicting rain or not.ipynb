{
 "cells": [
  {
   "cell_type": "markdown",
   "metadata": {},
   "source": [
    "This python script trains a random forest model to predict if it rains."
   ]
  },
  {
   "cell_type": "code",
   "execution_count": 9,
   "metadata": {
    "collapsed": true
   },
   "outputs": [],
   "source": [
    "import pandas\n",
    "import numpy as np\n",
    "from sklearn.cross_validation import cross_val_score,KFold\n",
    "from sklearn.ensemble import RandomForestRegressor, RandomForestClassifier\n",
    "from sklearn.metrics import f1_score"
   ]
  },
  {
   "cell_type": "code",
   "execution_count": 10,
   "metadata": {
    "collapsed": true
   },
   "outputs": [],
   "source": [
    "raw_dataframe=pandas.read_csv(\"./data/improved-dataset/turnstile_weather_v2.csv\")\n",
    "dataframe=raw_dataframe"
   ]
  },
  {
   "cell_type": "code",
   "execution_count": 11,
   "metadata": {
    "collapsed": false
   },
   "outputs": [
    {
     "name": "stdout",
     "output_type": "stream",
     "text": [
      "42649\n",
      "Index(['UNIT', 'DATEn', 'TIMEn', 'ENTRIESn', 'EXITSn', 'ENTRIESn_hourly',\n",
      "       'EXITSn_hourly', 'datetime', 'hour', 'day_week', 'weekday', 'station',\n",
      "       'latitude', 'longitude', 'conds', 'fog', 'precipi', 'pressurei', 'rain',\n",
      "       'tempi', 'wspdi', 'meanprecipi', 'meanpressurei', 'meantempi',\n",
      "       'meanwspdi', 'weather_lat', 'weather_lon'],\n",
      "      dtype='object')\n"
     ]
    }
   ],
   "source": [
    "print(raw_dataframe.shape[0])\n",
    "print(raw_dataframe.columns)"
   ]
  },
  {
   "cell_type": "markdown",
   "metadata": {},
   "source": [
    "### Prepare the features for training"
   ]
  },
  {
   "cell_type": "code",
   "execution_count": 12,
   "metadata": {
    "collapsed": true
   },
   "outputs": [],
   "source": [
    "selected_features=['tempi','pressurei','wspdi','precipi','fog','weekday']\n",
    "features_to_dummy=['hour']\n",
    "features = dataframe[[f for f in selected_features if f not in features_to_dummy]]\n",
    "\n",
    "total_dummy_feature_num=0\n",
    "for fd in features_to_dummy:\n",
    "\n",
    "    # Add UNIT to features using dummy variables\n",
    "    dummy_units = pandas.get_dummies(dataframe[fd], prefix=fd)\n",
    "    total_dummy_feature_num+=dummy_units.shape[1]\n",
    "    features = features.join(dummy_units)\n",
    "\n",
    "values = dataframe['rain']\n",
    "features_array=np.array(features)\n",
    "values_array=np.array(values)"
   ]
  },
  {
   "cell_type": "markdown",
   "metadata": {},
   "source": [
    "### Run Random Forest classification"
   ]
  },
  {
   "cell_type": "code",
   "execution_count": 13,
   "metadata": {
    "collapsed": false
   },
   "outputs": [
    {
     "data": {
      "text/plain": [
       "RandomForestClassifier(bootstrap=True, compute_importances=None,\n",
       "            criterion='gini', max_depth=None, max_features='auto',\n",
       "            max_leaf_nodes=None, min_density=None, min_samples_leaf=1,\n",
       "            min_samples_split=2, n_estimators=10, n_jobs=1,\n",
       "            oob_score=False, random_state=None, verbose=0)"
      ]
     },
     "execution_count": 13,
     "metadata": {},
     "output_type": "execute_result"
    }
   ],
   "source": [
    "rf=RandomForestClassifier()\n",
    "rf.fit(features_array,values_array)"
   ]
  },
  {
   "cell_type": "markdown",
   "metadata": {},
   "source": [
    "### Print the importances of each trained features:"
   ]
  },
  {
   "cell_type": "code",
   "execution_count": 14,
   "metadata": {
    "collapsed": false
   },
   "outputs": [
    {
     "name": "stdout",
     "output_type": "stream",
     "text": [
      "tempi:0.247063630483\n",
      "pressurei:0.326992317629\n",
      "wspdi:0.141390646133\n",
      "precipi:0.203805064386\n",
      "fog:0.00554135423726\n",
      "weekday:0.0261809626921\n",
      "hour_0:0.00751892092735\n",
      "hour_4:0.00932259867797\n",
      "hour_8:0.00704045195043\n",
      "hour_12:0.00517219750272\n",
      "hour_16:0.0134191915695\n",
      "hour_20:0.00655266381197\n"
     ]
    }
   ],
   "source": [
    "for i,r in enumerate(rf.feature_importances_):\n",
    "    print(features.columns[i]+\":\"+str(r))"
   ]
  },
  {
   "cell_type": "markdown",
   "metadata": {},
   "source": [
    "### Run cross validation, use f1 score as metric"
   ]
  },
  {
   "cell_type": "code",
   "execution_count": 15,
   "metadata": {
    "collapsed": false
   },
   "outputs": [
    {
     "name": "stdout",
     "output_type": "stream",
     "text": [
      "[ 0.99869758  1.          1.          0.99044175  0.98636481]\n"
     ]
    }
   ],
   "source": [
    "cs=cross_val_score(RandomForestClassifier(), features_array,values_array,cv=5,scoring='f1')\n",
    "print(cs)"
   ]
  },
  {
   "cell_type": "markdown",
   "metadata": {},
   "source": [
    "#### averaged f1 scores of the five fold classification:"
   ]
  },
  {
   "cell_type": "code",
   "execution_count": 16,
   "metadata": {
    "collapsed": false
   },
   "outputs": [
    {
     "data": {
      "text/plain": [
       "0.99510082591514382"
      ]
     },
     "execution_count": 16,
     "metadata": {},
     "output_type": "execute_result"
    }
   ],
   "source": [
    "np.mean(cs)"
   ]
  },
  {
   "cell_type": "code",
   "execution_count": null,
   "metadata": {
    "collapsed": true
   },
   "outputs": [],
   "source": []
  }
 ],
 "metadata": {
  "kernelspec": {
   "display_name": "Python 3",
   "language": "python",
   "name": "python3"
  },
  "language_info": {
   "codemirror_mode": {
    "name": "ipython",
    "version": 3
   },
   "file_extension": ".py",
   "mimetype": "text/x-python",
   "name": "python",
   "nbconvert_exporter": "python",
   "pygments_lexer": "ipython3",
   "version": "3.4.2"
  }
 },
 "nbformat": 4,
 "nbformat_minor": 0
}
