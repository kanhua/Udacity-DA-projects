{
 "cells": [
  {
   "cell_type": "markdown",
   "metadata": {},
   "source": [
    "# Identifying Fraud in Enron Email"
   ]
  },
  {
   "cell_type": "markdown",
   "metadata": {},
   "source": [
    "## Table of contents"
   ]
  },
  {
   "cell_type": "markdown",
   "metadata": {},
   "source": [
    "## Code Summary"
   ]
  },
  {
   "cell_type": "markdown",
   "metadata": {},
   "source": [
    "## Exploratory Analysis"
   ]
  },
  {
   "cell_type": "code",
   "execution_count": 67,
   "metadata": {
    "collapsed": true
   },
   "outputs": [],
   "source": [
    "%matplotlib inline\n",
    "import pandas as pd\n",
    "import ggplot as gg\n",
    "import numpy as np\n",
    "import matplotlib.pyplot as plt\n",
    "\n",
    "from sklearn.svm import LinearSVC\n",
    "from sklearn.preprocessing import scale,StandardScaler\n",
    "from sklearn.preprocessing import Imputer\n",
    "from sklearn.pipeline import Pipeline\n",
    "from sklearn.naive_bayes import GaussianNB\n",
    "from sklearn.linear_model import RidgeClassifier\n",
    "from sklearn.ensemble import RandomForestClassifier, GradientBoostingClassifier\n",
    "from sklearn.feature_selection import SelectKBest\n",
    "from sklearn.decomposition import PCA\n",
    "\n",
    "from scoring import calc_score\n",
    "from preprocess_data import pkl_to_df,extract_df,linearsvc_outlier_rm,FeatureSel"
   ]
  },
  {
   "cell_type": "code",
   "execution_count": 68,
   "metadata": {
    "collapsed": true
   },
   "outputs": [],
   "source": [
    "# Load the dataset and convert it to a pandas dataframe\n",
    "df=pkl_to_df()\n",
    "df=df.convert_objects(convert_numeric=True)"
   ]
  },
  {
   "cell_type": "markdown",
   "metadata": {},
   "source": [
    "The rows and columns of data:"
   ]
  },
  {
   "cell_type": "code",
   "execution_count": 69,
   "metadata": {
    "collapsed": false
   },
   "outputs": [
    {
     "data": {
      "text/plain": [
       "(146, 21)"
      ]
     },
     "execution_count": 69,
     "metadata": {},
     "output_type": "execute_result"
    }
   ],
   "source": [
    "df.shape"
   ]
  },
  {
   "cell_type": "markdown",
   "metadata": {},
   "source": [
    "This data set has 145 entries and 21 features, including ```poi```."
   ]
  },
  {
   "cell_type": "markdown",
   "metadata": {},
   "source": [
    "Then we use ```describe()``` function to explore the summary of the feature ```poi```:"
   ]
  },
  {
   "cell_type": "code",
   "execution_count": 70,
   "metadata": {
    "collapsed": false
   },
   "outputs": [
    {
     "data": {
      "text/plain": [
       "count          146\n",
       "mean     0.1232877\n",
       "std      0.3298989\n",
       "min          False\n",
       "25%              0\n",
       "50%              0\n",
       "75%              0\n",
       "max           True\n",
       "Name: poi, dtype: object"
      ]
     },
     "execution_count": 70,
     "metadata": {},
     "output_type": "execute_result"
    }
   ],
   "source": [
    "df[\"poi\"].describe()"
   ]
  },
  {
   "cell_type": "markdown",
   "metadata": {},
   "source": [
    "The mean value indicates that only 12.4% of ```poi``` is ```True```. ```count``` is the number of total non-NaN values. The ```count``` of ```poi``` equals to the total rows, meaning that every row has a ```poi``` value."
   ]
  },
  {
   "cell_type": "markdown",
   "metadata": {},
   "source": [
    "We can then use ```transpose()``` and ```count``` to explore the ratio of non-NaN values in each feature: "
   ]
  },
  {
   "cell_type": "code",
   "execution_count": 71,
   "metadata": {
    "collapsed": false
   },
   "outputs": [
    {
     "data": {
      "text/plain": [
       "bonus                         0.5616438\n",
       "deferral_payments             0.2671233\n",
       "deferred_income               0.3356164\n",
       "director_fees                 0.1164384\n",
       "exercised_stock_options       0.6986301\n",
       "expenses                      0.6506849\n",
       "from_messages                 0.5890411\n",
       "from_poi_to_this_person       0.5890411\n",
       "from_this_person_to_poi       0.5890411\n",
       "loan_advances                0.02739726\n",
       "long_term_incentive           0.4520548\n",
       "other                         0.6369863\n",
       "poi                                   1\n",
       "restricted_stock              0.7534247\n",
       "restricted_stock_deferred     0.1232877\n",
       "salary                        0.6506849\n",
       "shared_receipt_with_poi       0.5890411\n",
       "to_messages                   0.5890411\n",
       "total_payments                0.8561644\n",
       "total_stock_value             0.8630137\n",
       "Name: count, dtype: object"
      ]
     },
     "execution_count": 71,
     "metadata": {},
     "output_type": "execute_result"
    }
   ],
   "source": [
    "df.describe().transpose()[\"count\"]/df.shape[0]"
   ]
  },
  {
   "cell_type": "markdown",
   "metadata": {},
   "source": [
    "This result shows that every feature has NaN values except ```poi```. The features ```loan_advances``` has the lowest ratio of non-NaN data, which is only 2%."
   ]
  },
  {
   "cell_type": "markdown",
   "metadata": {},
   "source": [
    "## Removing outliers manually"
   ]
  },
  {
   "cell_type": "markdown",
   "metadata": {},
   "source": [
    "In this section, we will show how we remove the data points that are not appropriate for further analysis.\n",
    "As discussed in the lessons, the dataset includes an entry that is the total of the financial features. Therefore we should remove this entry before proceeding to further analysis:"
   ]
  },
  {
   "cell_type": "code",
   "execution_count": 72,
   "metadata": {
    "collapsed": false
   },
   "outputs": [],
   "source": [
    "# remove \"TOTAL\"\n",
    "df.drop(\"TOTAL\",axis=0,inplace=True)"
   ]
  },
  {
   "cell_type": "code",
   "execution_count": 73,
   "metadata": {
    "collapsed": false
   },
   "outputs": [
    {
     "data": {
      "text/plain": [
       "LOCKHART EUGENE E    2\n",
       "dtype: int64"
      ]
     },
     "execution_count": 73,
     "metadata": {},
     "output_type": "execute_result"
    }
   ],
   "source": [
    "tests=df.transpose().count()\n",
    "tests[tests<3]"
   ]
  },
  {
   "cell_type": "markdown",
   "metadata": {},
   "source": [
    "Also, we found that some data entries was highly incomplete. For example, all the features of *LOCKHART EUGENE E* are NaN excep ```poi```:"
   ]
  },
  {
   "cell_type": "code",
   "execution_count": 74,
   "metadata": {
    "collapsed": false
   },
   "outputs": [
    {
     "data": {
      "text/plain": [
       "bonus                          NaN\n",
       "deferral_payments              NaN\n",
       "deferred_income                NaN\n",
       "director_fees                  NaN\n",
       "email_address                  NaN\n",
       "exercised_stock_options        NaN\n",
       "expenses                       NaN\n",
       "from_messages                  NaN\n",
       "from_poi_to_this_person        NaN\n",
       "from_this_person_to_poi        NaN\n",
       "loan_advances                  NaN\n",
       "long_term_incentive            NaN\n",
       "other                          NaN\n",
       "poi                          False\n",
       "restricted_stock               NaN\n",
       "restricted_stock_deferred      NaN\n",
       "salary                         NaN\n",
       "shared_receipt_with_poi        NaN\n",
       "to_messages                    NaN\n",
       "total_payments                 NaN\n",
       "total_stock_value              NaN\n",
       "Name: LOCKHART EUGENE E, dtype: object"
      ]
     },
     "execution_count": 74,
     "metadata": {},
     "output_type": "execute_result"
    }
   ],
   "source": [
    "df.loc[\"LOCKHART EUGENE E\",:]"
   ]
  },
  {
   "cell_type": "markdown",
   "metadata": {},
   "source": [
    "Therefore we should exclude this data entry for further analysis."
   ]
  },
  {
   "cell_type": "code",
   "execution_count": 75,
   "metadata": {
    "collapsed": false
   },
   "outputs": [],
   "source": [
    "df.drop(\"LOCKHART EUGENE E\",axis=0,inplace=True)"
   ]
  },
  {
   "cell_type": "code",
   "execution_count": null,
   "metadata": {
    "collapsed": true
   },
   "outputs": [],
   "source": []
  }
 ],
 "metadata": {
  "kernelspec": {
   "display_name": "Python 3",
   "language": "python",
   "name": "python3"
  },
  "language_info": {
   "codemirror_mode": {
    "name": "ipython",
    "version": 3
   },
   "file_extension": ".py",
   "mimetype": "text/x-python",
   "name": "python",
   "nbconvert_exporter": "python",
   "pygments_lexer": "ipython3",
   "version": "3.4.2"
  }
 },
 "nbformat": 4,
 "nbformat_minor": 0
}
