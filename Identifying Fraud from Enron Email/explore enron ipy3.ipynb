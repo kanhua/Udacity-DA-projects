{
 "cells": [
  {
   "cell_type": "code",
   "execution_count": 1,
   "metadata": {
    "collapsed": true
   },
   "outputs": [],
   "source": [
    "%matplotlib inline\n",
    "import pandas as pd\n",
    "import ggplot as gg\n",
    "import numpy as np"
   ]
  },
  {
   "cell_type": "code",
   "execution_count": 2,
   "metadata": {
    "collapsed": false
   },
   "outputs": [],
   "source": [
    "df=pd.read_csv(\"./data/final_project_dataset.csv\")"
   ]
  },
  {
   "cell_type": "code",
   "execution_count": 3,
   "metadata": {
    "collapsed": false
   },
   "outputs": [
    {
     "data": {
      "text/plain": [
       "(146, 22)"
      ]
     },
     "execution_count": 3,
     "metadata": {},
     "output_type": "execute_result"
    }
   ],
   "source": [
    "df.shape"
   ]
  },
  {
   "cell_type": "code",
   "execution_count": 4,
   "metadata": {
    "collapsed": false,
    "scrolled": true
   },
   "outputs": [
    {
     "data": {
      "text/plain": [
       "Index(['Unnamed: 0', 'bonus', 'deferral_payments', 'deferred_income',\n",
       "       'director_fees', 'email_address', 'exercised_stock_options', 'expenses',\n",
       "       'from_messages', 'from_poi_to_this_person', 'from_this_person_to_poi',\n",
       "       'loan_advances', 'long_term_incentive', 'other', 'poi',\n",
       "       'restricted_stock', 'restricted_stock_deferred', 'salary',\n",
       "       'shared_receipt_with_poi', 'to_messages', 'total_payments',\n",
       "       'total_stock_value'],\n",
       "      dtype='object')"
      ]
     },
     "execution_count": 4,
     "metadata": {},
     "output_type": "execute_result"
    }
   ],
   "source": [
    "df.columns"
   ]
  },
  {
   "cell_type": "code",
   "execution_count": 5,
   "metadata": {
    "collapsed": false
   },
   "outputs": [
    {
     "data": {
      "image/png": "[encoded data removed]",
      "text/plain": [
       "<matplotlib.figure.Figure at 0x10c156ba8>"
      ]
     },
     "metadata": {},
     "output_type": "display_data"
    },
    {
     "data": {
      "text/plain": [
       "<ggplot: (-9223372036573669793)>"
      ]
     },
     "execution_count": 5,
     "metadata": {},
     "output_type": "execute_result"
    }
   ],
   "source": [
    "gg.ggplot(df,gg.aes(x=\"total_payments\",y=\"salary\",color='poi'))+gg.geom_point()+gg.xlim(0,1000000)+gg.ylim(0,1000000)"
   ]
  },
  {
   "cell_type": "code",
   "execution_count": 6,
   "metadata": {
    "collapsed": false
   },
   "outputs": [
    {
     "data": {
      "text/plain": [
       "Unnamed: 0                          TOTAL\n",
       "bonus                        9.734362e+07\n",
       "deferral_payments             3.20834e+07\n",
       "deferred_income             -2.799289e+07\n",
       "director_fees                     1398517\n",
       "email_address                         NaN\n",
       "exercised_stock_options       3.11764e+08\n",
       "expenses                          5235198\n",
       "from_messages                         NaN\n",
       "from_poi_to_this_person               NaN\n",
       "from_this_person_to_poi               NaN\n",
       "loan_advances                  8.3925e+07\n",
       "long_term_incentive          4.852193e+07\n",
       "other                        4.266759e+07\n",
       "poi                                 False\n",
       "restricted_stock             1.303223e+08\n",
       "restricted_stock_deferred        -7576788\n",
       "salary                       2.670423e+07\n",
       "shared_receipt_with_poi               NaN\n",
       "to_messages                           NaN\n",
       "total_payments               3.098866e+08\n",
       "total_stock_value            4.345095e+08\n",
       "Name: 130, dtype: object"
      ]
     },
     "execution_count": 6,
     "metadata": {},
     "output_type": "execute_result"
    }
   ],
   "source": [
    "df.loc[df[\"bonus\"].argmax(),:]"
   ]
  },
  {
   "cell_type": "code",
   "execution_count": 7,
   "metadata": {
    "collapsed": false
   },
   "outputs": [
    {
     "data": {
      "text/html": [
       "<div>\n",
       "<table border=\"1\" class=\"dataframe\">\n",
       "  <thead>\n",
       "    <tr style=\"text-align: right;\">\n",
       "      <th></th>\n",
       "      <th>Unnamed: 0</th>\n",
       "      <th>bonus</th>\n",
       "      <th>deferral_payments</th>\n",
       "      <th>deferred_income</th>\n",
       "      <th>director_fees</th>\n",
       "      <th>email_address</th>\n",
       "      <th>exercised_stock_options</th>\n",
       "      <th>expenses</th>\n",
       "      <th>from_messages</th>\n",
       "      <th>from_poi_to_this_person</th>\n",
       "      <th>...</th>\n",
       "      <th>long_term_incentive</th>\n",
       "      <th>other</th>\n",
       "      <th>poi</th>\n",
       "      <th>restricted_stock</th>\n",
       "      <th>restricted_stock_deferred</th>\n",
       "      <th>salary</th>\n",
       "      <th>shared_receipt_with_poi</th>\n",
       "      <th>to_messages</th>\n",
       "      <th>total_payments</th>\n",
       "      <th>total_stock_value</th>\n",
       "    </tr>\n",
       "  </thead>\n",
       "  <tbody>\n",
       "    <tr>\n",
       "      <th>79</th>\n",
       "      <td>LAY KENNETH L</td>\n",
       "      <td>7000000</td>\n",
       "      <td>202911</td>\n",
       "      <td>-300000</td>\n",
       "      <td>NaN</td>\n",
       "      <td>kenneth.lay@enron.com</td>\n",
       "      <td>34348384</td>\n",
       "      <td>99832</td>\n",
       "      <td>36</td>\n",
       "      <td>123</td>\n",
       "      <td>...</td>\n",
       "      <td>3600000</td>\n",
       "      <td>10359729</td>\n",
       "      <td>True</td>\n",
       "      <td>14761694</td>\n",
       "      <td>NaN</td>\n",
       "      <td>1072321</td>\n",
       "      <td>2411</td>\n",
       "      <td>4273</td>\n",
       "      <td>103559793</td>\n",
       "      <td>49110078</td>\n",
       "    </tr>\n",
       "    <tr>\n",
       "      <th>122</th>\n",
       "      <td>SKILLING JEFFREY K</td>\n",
       "      <td>5600000</td>\n",
       "      <td>NaN</td>\n",
       "      <td>NaN</td>\n",
       "      <td>NaN</td>\n",
       "      <td>jeff.skilling@enron.com</td>\n",
       "      <td>19250000</td>\n",
       "      <td>29336</td>\n",
       "      <td>108</td>\n",
       "      <td>88</td>\n",
       "      <td>...</td>\n",
       "      <td>1920000</td>\n",
       "      <td>22122</td>\n",
       "      <td>True</td>\n",
       "      <td>6843672</td>\n",
       "      <td>NaN</td>\n",
       "      <td>1111258</td>\n",
       "      <td>2042</td>\n",
       "      <td>3627</td>\n",
       "      <td>8682716</td>\n",
       "      <td>26093672</td>\n",
       "    </tr>\n",
       "    <tr>\n",
       "      <th>130</th>\n",
       "      <td>TOTAL</td>\n",
       "      <td>97343619</td>\n",
       "      <td>32083396</td>\n",
       "      <td>-27992891</td>\n",
       "      <td>1398517</td>\n",
       "      <td>NaN</td>\n",
       "      <td>311764000</td>\n",
       "      <td>5235198</td>\n",
       "      <td>NaN</td>\n",
       "      <td>NaN</td>\n",
       "      <td>...</td>\n",
       "      <td>48521928</td>\n",
       "      <td>42667589</td>\n",
       "      <td>False</td>\n",
       "      <td>130322299</td>\n",
       "      <td>-7576788</td>\n",
       "      <td>26704229</td>\n",
       "      <td>NaN</td>\n",
       "      <td>NaN</td>\n",
       "      <td>309886585</td>\n",
       "      <td>434509511</td>\n",
       "    </tr>\n",
       "  </tbody>\n",
       "</table>\n",
       "<p>3 rows × 22 columns</p>\n",
       "</div>"
      ],
      "text/plain": [
       "             Unnamed: 0     bonus  deferral_payments  deferred_income  \\\n",
       "79        LAY KENNETH L   7000000             202911          -300000   \n",
       "122  SKILLING JEFFREY K   5600000                NaN              NaN   \n",
       "130               TOTAL  97343619           32083396        -27992891   \n",
       "\n",
       "     director_fees            email_address  exercised_stock_options  \\\n",
       "79             NaN    kenneth.lay@enron.com                 34348384   \n",
       "122            NaN  jeff.skilling@enron.com                 19250000   \n",
       "130        1398517                      NaN                311764000   \n",
       "\n",
       "     expenses  from_messages  from_poi_to_this_person        ...          \\\n",
       "79      99832             36                      123        ...           \n",
       "122     29336            108                       88        ...           \n",
       "130   5235198            NaN                      NaN        ...           \n",
       "\n",
       "     long_term_incentive     other    poi  restricted_stock  \\\n",
       "79               3600000  10359729   True          14761694   \n",
       "122              1920000     22122   True           6843672   \n",
       "130             48521928  42667589  False         130322299   \n",
       "\n",
       "    restricted_stock_deferred    salary  shared_receipt_with_poi  to_messages  \\\n",
       "79                        NaN   1072321                     2411         4273   \n",
       "122                       NaN   1111258                     2042         3627   \n",
       "130                  -7576788  26704229                      NaN          NaN   \n",
       "\n",
       "     total_payments  total_stock_value  \n",
       "79        103559793           49110078  \n",
       "122         8682716           26093672  \n",
       "130       309886585          434509511  \n",
       "\n",
       "[3 rows x 22 columns]"
      ]
     },
     "execution_count": 7,
     "metadata": {},
     "output_type": "execute_result"
    }
   ],
   "source": [
    "df.loc[np.logical_and(df[\"salary\"]>1000000,df[\"bonus\"]>5000000),:]"
   ]
  },
  {
   "cell_type": "code",
   "execution_count": 8,
   "metadata": {
    "collapsed": false,
    "scrolled": true
   },
   "outputs": [
    {
     "data": {
      "text/html": [
       "<div>\n",
       "<table border=\"1\" class=\"dataframe\">\n",
       "  <thead>\n",
       "    <tr style=\"text-align: right;\">\n",
       "      <th></th>\n",
       "      <th>bonus</th>\n",
       "      <th>deferral_payments</th>\n",
       "      <th>deferred_income</th>\n",
       "      <th>director_fees</th>\n",
       "      <th>exercised_stock_options</th>\n",
       "      <th>expenses</th>\n",
       "      <th>from_messages</th>\n",
       "      <th>from_poi_to_this_person</th>\n",
       "      <th>from_this_person_to_poi</th>\n",
       "      <th>loan_advances</th>\n",
       "      <th>long_term_incentive</th>\n",
       "      <th>other</th>\n",
       "      <th>poi</th>\n",
       "      <th>restricted_stock</th>\n",
       "      <th>restricted_stock_deferred</th>\n",
       "      <th>salary</th>\n",
       "      <th>shared_receipt_with_poi</th>\n",
       "      <th>to_messages</th>\n",
       "      <th>total_payments</th>\n",
       "      <th>total_stock_value</th>\n",
       "    </tr>\n",
       "  </thead>\n",
       "  <tbody>\n",
       "    <tr>\n",
       "      <th>count</th>\n",
       "      <td>82.000000</td>\n",
       "      <td>39.000000</td>\n",
       "      <td>49.000000</td>\n",
       "      <td>17.000000</td>\n",
       "      <td>1.020000e+02</td>\n",
       "      <td>95.000000</td>\n",
       "      <td>86.000000</td>\n",
       "      <td>86.000000</td>\n",
       "      <td>86.000000</td>\n",
       "      <td>4.0000</td>\n",
       "      <td>66.000000</td>\n",
       "      <td>93.000000</td>\n",
       "      <td>146</td>\n",
       "      <td>1.100000e+02</td>\n",
       "      <td>18.000000</td>\n",
       "      <td>95.000000</td>\n",
       "      <td>86.000000</td>\n",
       "      <td>86.000000</td>\n",
       "      <td>1.250000e+02</td>\n",
       "      <td>1.260000e+02</td>\n",
       "    </tr>\n",
       "    <tr>\n",
       "      <th>mean</th>\n",
       "      <td>2374234.609756</td>\n",
       "      <td>1642674.153846</td>\n",
       "      <td>-1140475.142857</td>\n",
       "      <td>166804.882353</td>\n",
       "      <td>5.987054e+06</td>\n",
       "      <td>108728.915789</td>\n",
       "      <td>608.790698</td>\n",
       "      <td>64.895349</td>\n",
       "      <td>41.232558</td>\n",
       "      <td>41962500.0000</td>\n",
       "      <td>1470361.454545</td>\n",
       "      <td>919064.967742</td>\n",
       "      <td>0.1232877</td>\n",
       "      <td>2.321741e+06</td>\n",
       "      <td>166410.555556</td>\n",
       "      <td>562194.294737</td>\n",
       "      <td>1176.465116</td>\n",
       "      <td>2073.860465</td>\n",
       "      <td>5.081526e+06</td>\n",
       "      <td>6.773957e+06</td>\n",
       "    </tr>\n",
       "    <tr>\n",
       "      <th>std</th>\n",
       "      <td>10713327.969046</td>\n",
       "      <td>5161929.973575</td>\n",
       "      <td>4025406.378506</td>\n",
       "      <td>319891.409747</td>\n",
       "      <td>3.106201e+07</td>\n",
       "      <td>533534.814109</td>\n",
       "      <td>1841.033949</td>\n",
       "      <td>86.979244</td>\n",
       "      <td>100.073111</td>\n",
       "      <td>47083208.7019</td>\n",
       "      <td>5942759.315498</td>\n",
       "      <td>4589252.907638</td>\n",
       "      <td>0.3298989</td>\n",
       "      <td>1.251828e+07</td>\n",
       "      <td>4201494.314703</td>\n",
       "      <td>2716369.154553</td>\n",
       "      <td>1178.317641</td>\n",
       "      <td>2582.700981</td>\n",
       "      <td>2.906172e+07</td>\n",
       "      <td>3.895777e+07</td>\n",
       "    </tr>\n",
       "    <tr>\n",
       "      <th>min</th>\n",
       "      <td>70000.000000</td>\n",
       "      <td>-102500.000000</td>\n",
       "      <td>-27992891.000000</td>\n",
       "      <td>3285.000000</td>\n",
       "      <td>3.285000e+03</td>\n",
       "      <td>148.000000</td>\n",
       "      <td>12.000000</td>\n",
       "      <td>0.000000</td>\n",
       "      <td>0.000000</td>\n",
       "      <td>400000.0000</td>\n",
       "      <td>69223.000000</td>\n",
       "      <td>2.000000</td>\n",
       "      <td>False</td>\n",
       "      <td>-2.604490e+06</td>\n",
       "      <td>-7576788.000000</td>\n",
       "      <td>477.000000</td>\n",
       "      <td>2.000000</td>\n",
       "      <td>57.000000</td>\n",
       "      <td>1.480000e+02</td>\n",
       "      <td>-4.409300e+04</td>\n",
       "    </tr>\n",
       "    <tr>\n",
       "      <th>25%</th>\n",
       "      <td>431250.000000</td>\n",
       "      <td>81573.000000</td>\n",
       "      <td>-694862.000000</td>\n",
       "      <td>98784.000000</td>\n",
       "      <td>5.278862e+05</td>\n",
       "      <td>22614.000000</td>\n",
       "      <td>22.750000</td>\n",
       "      <td>10.000000</td>\n",
       "      <td>1.000000</td>\n",
       "      <td>1600000.0000</td>\n",
       "      <td>281250.000000</td>\n",
       "      <td>1215.000000</td>\n",
       "      <td>0</td>\n",
       "      <td>2.540180e+05</td>\n",
       "      <td>-389621.750000</td>\n",
       "      <td>211816.000000</td>\n",
       "      <td>249.750000</td>\n",
       "      <td>541.250000</td>\n",
       "      <td>3.944750e+05</td>\n",
       "      <td>4.945102e+05</td>\n",
       "    </tr>\n",
       "    <tr>\n",
       "      <th>50%</th>\n",
       "      <td>769375.000000</td>\n",
       "      <td>227449.000000</td>\n",
       "      <td>-159792.000000</td>\n",
       "      <td>108579.000000</td>\n",
       "      <td>1.310814e+06</td>\n",
       "      <td>46950.000000</td>\n",
       "      <td>41.000000</td>\n",
       "      <td>35.000000</td>\n",
       "      <td>8.000000</td>\n",
       "      <td>41762500.0000</td>\n",
       "      <td>442035.000000</td>\n",
       "      <td>52382.000000</td>\n",
       "      <td>0</td>\n",
       "      <td>4.517400e+05</td>\n",
       "      <td>-146975.000000</td>\n",
       "      <td>259996.000000</td>\n",
       "      <td>740.500000</td>\n",
       "      <td>1211.000000</td>\n",
       "      <td>1.101393e+06</td>\n",
       "      <td>1.102872e+06</td>\n",
       "    </tr>\n",
       "    <tr>\n",
       "      <th>75%</th>\n",
       "      <td>1200000.000000</td>\n",
       "      <td>1002671.500000</td>\n",
       "      <td>-38346.000000</td>\n",
       "      <td>113784.000000</td>\n",
       "      <td>2.547724e+06</td>\n",
       "      <td>79952.500000</td>\n",
       "      <td>145.500000</td>\n",
       "      <td>72.250000</td>\n",
       "      <td>24.750000</td>\n",
       "      <td>82125000.0000</td>\n",
       "      <td>938672.000000</td>\n",
       "      <td>362096.000000</td>\n",
       "      <td>0</td>\n",
       "      <td>1.002370e+06</td>\n",
       "      <td>-75009.750000</td>\n",
       "      <td>312117.000000</td>\n",
       "      <td>1888.250000</td>\n",
       "      <td>2634.750000</td>\n",
       "      <td>2.093263e+06</td>\n",
       "      <td>2.949847e+06</td>\n",
       "    </tr>\n",
       "    <tr>\n",
       "      <th>max</th>\n",
       "      <td>97343619.000000</td>\n",
       "      <td>32083396.000000</td>\n",
       "      <td>-833.000000</td>\n",
       "      <td>1398517.000000</td>\n",
       "      <td>3.117640e+08</td>\n",
       "      <td>5235198.000000</td>\n",
       "      <td>14368.000000</td>\n",
       "      <td>528.000000</td>\n",
       "      <td>609.000000</td>\n",
       "      <td>83925000.0000</td>\n",
       "      <td>48521928.000000</td>\n",
       "      <td>42667589.000000</td>\n",
       "      <td>True</td>\n",
       "      <td>1.303223e+08</td>\n",
       "      <td>15456290.000000</td>\n",
       "      <td>26704229.000000</td>\n",
       "      <td>5521.000000</td>\n",
       "      <td>15149.000000</td>\n",
       "      <td>3.098866e+08</td>\n",
       "      <td>4.345095e+08</td>\n",
       "    </tr>\n",
       "  </tbody>\n",
       "</table>\n",
       "</div>"
      ],
      "text/plain": [
       "                 bonus  deferral_payments  deferred_income   director_fees  \\\n",
       "count        82.000000          39.000000        49.000000       17.000000   \n",
       "mean    2374234.609756     1642674.153846  -1140475.142857   166804.882353   \n",
       "std    10713327.969046     5161929.973575   4025406.378506   319891.409747   \n",
       "min       70000.000000     -102500.000000 -27992891.000000     3285.000000   \n",
       "25%      431250.000000       81573.000000   -694862.000000    98784.000000   \n",
       "50%      769375.000000      227449.000000   -159792.000000   108579.000000   \n",
       "75%     1200000.000000     1002671.500000    -38346.000000   113784.000000   \n",
       "max    97343619.000000    32083396.000000      -833.000000  1398517.000000   \n",
       "\n",
       "       exercised_stock_options        expenses  from_messages  \\\n",
       "count             1.020000e+02       95.000000      86.000000   \n",
       "mean              5.987054e+06   108728.915789     608.790698   \n",
       "std               3.106201e+07   533534.814109    1841.033949   \n",
       "min               3.285000e+03      148.000000      12.000000   \n",
       "25%               5.278862e+05    22614.000000      22.750000   \n",
       "50%               1.310814e+06    46950.000000      41.000000   \n",
       "75%               2.547724e+06    79952.500000     145.500000   \n",
       "max               3.117640e+08  5235198.000000   14368.000000   \n",
       "\n",
       "       from_poi_to_this_person  from_this_person_to_poi  loan_advances  \\\n",
       "count                86.000000                86.000000         4.0000   \n",
       "mean                 64.895349                41.232558  41962500.0000   \n",
       "std                  86.979244               100.073111  47083208.7019   \n",
       "min                   0.000000                 0.000000    400000.0000   \n",
       "25%                  10.000000                 1.000000   1600000.0000   \n",
       "50%                  35.000000                 8.000000  41762500.0000   \n",
       "75%                  72.250000                24.750000  82125000.0000   \n",
       "max                 528.000000               609.000000  83925000.0000   \n",
       "\n",
       "       long_term_incentive            other        poi  restricted_stock  \\\n",
       "count            66.000000        93.000000        146      1.100000e+02   \n",
       "mean        1470361.454545    919064.967742  0.1232877      2.321741e+06   \n",
       "std         5942759.315498   4589252.907638  0.3298989      1.251828e+07   \n",
       "min           69223.000000         2.000000      False     -2.604490e+06   \n",
       "25%          281250.000000      1215.000000          0      2.540180e+05   \n",
       "50%          442035.000000     52382.000000          0      4.517400e+05   \n",
       "75%          938672.000000    362096.000000          0      1.002370e+06   \n",
       "max        48521928.000000  42667589.000000       True      1.303223e+08   \n",
       "\n",
       "       restricted_stock_deferred           salary  shared_receipt_with_poi  \\\n",
       "count                  18.000000        95.000000                86.000000   \n",
       "mean               166410.555556    562194.294737              1176.465116   \n",
       "std               4201494.314703   2716369.154553              1178.317641   \n",
       "min              -7576788.000000       477.000000                 2.000000   \n",
       "25%               -389621.750000    211816.000000               249.750000   \n",
       "50%               -146975.000000    259996.000000               740.500000   \n",
       "75%                -75009.750000    312117.000000              1888.250000   \n",
       "max              15456290.000000  26704229.000000              5521.000000   \n",
       "\n",
       "        to_messages  total_payments  total_stock_value  \n",
       "count     86.000000    1.250000e+02       1.260000e+02  \n",
       "mean    2073.860465    5.081526e+06       6.773957e+06  \n",
       "std     2582.700981    2.906172e+07       3.895777e+07  \n",
       "min       57.000000    1.480000e+02      -4.409300e+04  \n",
       "25%      541.250000    3.944750e+05       4.945102e+05  \n",
       "50%     1211.000000    1.101393e+06       1.102872e+06  \n",
       "75%     2634.750000    2.093263e+06       2.949847e+06  \n",
       "max    15149.000000    3.098866e+08       4.345095e+08  "
      ]
     },
     "execution_count": 8,
     "metadata": {},
     "output_type": "execute_result"
    }
   ],
   "source": [
    "df.describe()"
   ]
  },
  {
   "cell_type": "code",
   "execution_count": 9,
   "metadata": {
    "collapsed": false
   },
   "outputs": [
    {
     "data": {
      "text/plain": [
       "True"
      ]
     },
     "execution_count": 9,
     "metadata": {},
     "output_type": "execute_result"
    }
   ],
   "source": [
    "np.isnan(df.loc[122,\"deferral_payments\"])"
   ]
  },
  {
   "cell_type": "code",
   "execution_count": 10,
   "metadata": {
    "collapsed": false
   },
   "outputs": [
    {
     "data": {
      "image/png": "[encoded data removed]",
      "text/plain": [
       "<matplotlib.figure.Figure at 0x10a787710>"
      ]
     },
     "metadata": {},
     "output_type": "display_data"
    },
    {
     "data": {
      "text/plain": [
       "<ggplot: (-9223372036575327442)>"
      ]
     },
     "execution_count": 10,
     "metadata": {},
     "output_type": "execute_result"
    }
   ],
   "source": [
    "gg.ggplot(gg.aes(x=\"shared_receipt_with_poi\",y=\"poi\"),data=df)+gg.geom_point()+gg.scale_x_log10()+gg.scale_y_discrete()"
   ]
  },
  {
   "cell_type": "code",
   "execution_count": 35,
   "metadata": {
    "collapsed": false
   },
   "outputs": [
    {
     "data": {
      "text/html": [
       "<div>\n",
       "<table border=\"1\" class=\"dataframe\">\n",
       "  <thead>\n",
       "    <tr style=\"text-align: right;\">\n",
       "      <th></th>\n",
       "      <th>Unnamed: 0</th>\n",
       "      <th>bonus</th>\n",
       "      <th>deferral_payments</th>\n",
       "      <th>deferred_income</th>\n",
       "      <th>director_fees</th>\n",
       "      <th>email_address</th>\n",
       "      <th>exercised_stock_options</th>\n",
       "      <th>expenses</th>\n",
       "      <th>from_messages</th>\n",
       "      <th>from_poi_to_this_person</th>\n",
       "      <th>...</th>\n",
       "      <th>long_term_incentive</th>\n",
       "      <th>other</th>\n",
       "      <th>poi</th>\n",
       "      <th>restricted_stock</th>\n",
       "      <th>restricted_stock_deferred</th>\n",
       "      <th>salary</th>\n",
       "      <th>shared_receipt_with_poi</th>\n",
       "      <th>to_messages</th>\n",
       "      <th>total_payments</th>\n",
       "      <th>total_stock_value</th>\n",
       "    </tr>\n",
       "  </thead>\n",
       "  <tbody>\n",
       "  </tbody>\n",
       "</table>\n",
       "<p>0 rows × 22 columns</p>\n",
       "</div>"
      ],
      "text/plain": [
       "Empty DataFrame\n",
       "Columns: [Unnamed: 0, bonus, deferral_payments, deferred_income, director_fees, email_address, exercised_stock_options, expenses, from_messages, from_poi_to_this_person, from_this_person_to_poi, loan_advances, long_term_incentive, other, poi, restricted_stock, restricted_stock_deferred, salary, shared_receipt_with_poi, to_messages, total_payments, total_stock_value]\n",
       "Index: []\n",
       "\n",
       "[0 rows x 22 columns]"
      ]
     },
     "execution_count": 35,
     "metadata": {},
     "output_type": "execute_result"
    }
   ],
   "source": [
    "df.loc[np.isnan(df[\"poi\"]),:]"
   ]
  },
  {
   "cell_type": "markdown",
   "metadata": {},
   "source": [
    "### Preprocess the data"
   ]
  },
  {
   "cell_type": "code",
   "execution_count": 11,
   "metadata": {
    "collapsed": true
   },
   "outputs": [],
   "source": [
    "from sklearn.preprocessing import Imputer"
   ]
  },
  {
   "cell_type": "markdown",
   "metadata": {},
   "source": [
    "Convert the dataframe to a matrix"
   ]
  },
  {
   "cell_type": "code",
   "execution_count": 12,
   "metadata": {
    "collapsed": false
   },
   "outputs": [],
   "source": [
    "ndf=df.drop([\"Unnamed: 0\",\"email_address\",\"poi\"],axis=1)\n",
    "exclude_features=[\"director_fees\",\"loan_advances\",\"restricted_stock_deferred\"]\n",
    "ndf=ndf.drop(exclude_features,axis=1)\n",
    "dfmtx=ndf.values\n",
    "dfmtx.astype(float)\n",
    "label=df[\"poi\"]"
   ]
  },
  {
   "cell_type": "code",
   "execution_count": 13,
   "metadata": {
    "collapsed": false
   },
   "outputs": [],
   "source": [
    "imp=Imputer(axis=0,)\n",
    "ndfmtx=imp.fit_transform(dfmtx)"
   ]
  },
  {
   "cell_type": "code",
   "execution_count": 14,
   "metadata": {
    "collapsed": false
   },
   "outputs": [
    {
     "data": {
      "text/plain": [
       "array([[  4.17500000e+06,   2.86971700e+06,  -3.08105500e+06, ...,\n",
       "          2.90200000e+03,   4.48444200e+06,   1.72954100e+06],\n",
       "       [  2.37423461e+06,   1.78980000e+05,  -1.14047514e+06, ...,\n",
       "          2.07386047e+03,   1.82466000e+05,   2.57817000e+05],\n",
       "       [  2.37423461e+06,   1.64267415e+06,  -5.10400000e+03, ...,\n",
       "          5.66000000e+02,   9.16197000e+05,   5.24348700e+06],\n",
       "       ..., \n",
       "       [  2.37423461e+06,   1.64267415e+06,  -1.14047514e+06, ...,\n",
       "          2.07386047e+03,   5.08152649e+06,   1.39130000e+05],\n",
       "       [  2.37423461e+06,   1.64267415e+06,  -1.14047514e+06, ...,\n",
       "          2.07386047e+03,   3.60300000e+05,   1.18847580e+07],\n",
       "       [  2.37423461e+06,   1.64267415e+06,  -1.14047514e+06, ...,\n",
       "          2.07386047e+03,   5.50970000e+04,   1.92758000e+05]])"
      ]
     },
     "execution_count": 14,
     "metadata": {},
     "output_type": "execute_result"
    }
   ],
   "source": [
    "ndfmtx"
   ]
  },
  {
   "cell_type": "markdown",
   "metadata": {},
   "source": [
    "## Split test and train dataset"
   ]
  },
  {
   "cell_type": "code",
   "execution_count": 15,
   "metadata": {
    "collapsed": false
   },
   "outputs": [],
   "source": [
    "from sklearn.cross_validation import StratifiedShuffleSplit"
   ]
  },
  {
   "cell_type": "code",
   "execution_count": 16,
   "metadata": {
    "collapsed": false
   },
   "outputs": [],
   "source": [
    "sss=StratifiedShuffleSplit(label,n_iter=3,test_size=0.333)"
   ]
  },
  {
   "cell_type": "code",
   "execution_count": 17,
   "metadata": {
    "collapsed": false
   },
   "outputs": [
    {
     "data": {
      "text/plain": [
       "3"
      ]
     },
     "execution_count": 17,
     "metadata": {},
     "output_type": "execute_result"
    }
   ],
   "source": [
    "len(sss)"
   ]
  },
  {
   "cell_type": "code",
   "execution_count": 18,
   "metadata": {
    "collapsed": false
   },
   "outputs": [],
   "source": [
    "for train_idx,test_idx in sss:\n",
    "    train_X=ndfmtx[train_idx,:]\n",
    "    test_X=ndfmtx[test_idx,:]\n",
    "    train_y=label[train_idx]\n",
    "    test_y=label[test_idx]"
   ]
  },
  {
   "cell_type": "markdown",
   "metadata": {},
   "source": [
    "## Try run some calssification"
   ]
  },
  {
   "cell_type": "code",
   "execution_count": 19,
   "metadata": {
    "collapsed": true
   },
   "outputs": [],
   "source": [
    "from sklearn.linear_model import RidgeClassifier"
   ]
  },
  {
   "cell_type": "code",
   "execution_count": 20,
   "metadata": {
    "collapsed": false
   },
   "outputs": [
    {
     "data": {
      "text/plain": [
       "RidgeClassifier(alpha=1.0, class_weight=None, copy_X=True, fit_intercept=True,\n",
       "        max_iter=None, normalize=False, solver='auto', tol=0.001)"
      ]
     },
     "execution_count": 20,
     "metadata": {},
     "output_type": "execute_result"
    }
   ],
   "source": [
    "rc=RidgeClassifier()\n",
    "rc.fit(train_X,train_y)"
   ]
  },
  {
   "cell_type": "code",
   "execution_count": 21,
   "metadata": {
    "collapsed": false
   },
   "outputs": [
    {
     "data": {
      "text/plain": [
       "0.91752577319587625"
      ]
     },
     "execution_count": 21,
     "metadata": {},
     "output_type": "execute_result"
    }
   ],
   "source": [
    "rc.score(train_X,train_y)"
   ]
  },
  {
   "cell_type": "code",
   "execution_count": 22,
   "metadata": {
    "collapsed": true
   },
   "outputs": [],
   "source": [
    "from sklearn.metrics import confusion_matrix,classification_report,precision_score,recall_score"
   ]
  },
  {
   "cell_type": "code",
   "execution_count": 23,
   "metadata": {
    "collapsed": false
   },
   "outputs": [],
   "source": [
    "y_pred=rc.predict(test_X)"
   ]
  },
  {
   "cell_type": "code",
   "execution_count": 24,
   "metadata": {
    "collapsed": false
   },
   "outputs": [],
   "source": [
    "result=classification_report(test_y,y_pred)"
   ]
  },
  {
   "cell_type": "code",
   "execution_count": 25,
   "metadata": {
    "collapsed": false
   },
   "outputs": [
    {
     "name": "stdout",
     "output_type": "stream",
     "text": [
      "             precision    recall  f1-score   support\n",
      "\n",
      "      False       0.90      1.00      0.95        43\n",
      "       True       1.00      0.17      0.29         6\n",
      "\n",
      "avg / total       0.91      0.90      0.86        49\n",
      "\n"
     ]
    }
   ],
   "source": [
    "print(result)"
   ]
  },
  {
   "cell_type": "code",
   "execution_count": 26,
   "metadata": {
    "collapsed": false
   },
   "outputs": [
    {
     "data": {
      "text/plain": [
       "1.0"
      ]
     },
     "execution_count": 26,
     "metadata": {},
     "output_type": "execute_result"
    }
   ],
   "source": [
    "precision_score(test_y,y_pred)"
   ]
  },
  {
   "cell_type": "code",
   "execution_count": 27,
   "metadata": {
    "collapsed": false
   },
   "outputs": [
    {
     "data": {
      "text/plain": [
       "0.16666666666666666"
      ]
     },
     "execution_count": 27,
     "metadata": {},
     "output_type": "execute_result"
    }
   ],
   "source": [
    "recall_score(test_y,y_pred)"
   ]
  },
  {
   "cell_type": "markdown",
   "metadata": {},
   "source": [
    "## Try random forest"
   ]
  },
  {
   "cell_type": "code",
   "execution_count": 28,
   "metadata": {
    "collapsed": false
   },
   "outputs": [],
   "source": [
    "from sklearn.ensemble import RandomForestClassifier\n",
    "rf=RandomForestClassifier()\n",
    "rf.fit(train_X,train_y)\n",
    "y_pred=rf.predict(test_X)"
   ]
  },
  {
   "cell_type": "code",
   "execution_count": 29,
   "metadata": {
    "collapsed": false
   },
   "outputs": [
    {
     "name": "stdout",
     "output_type": "stream",
     "text": [
      "             precision    recall  f1-score   support\n",
      "\n",
      "      False       0.88      1.00      0.93        43\n",
      "       True       0.00      0.00      0.00         6\n",
      "\n",
      "avg / total       0.77      0.88      0.82        49\n",
      "\n"
     ]
    },
    {
     "name": "stderr",
     "output_type": "stream",
     "text": [
      "/usr/local/lib/python3.4/site-packages/sklearn/metrics/metrics.py:1771: UndefinedMetricWarning: Precision and F-score are ill-defined and being set to 0.0 in labels with no predicted samples.\n",
      "  'precision', 'predicted', average, warn_for)\n"
     ]
    }
   ],
   "source": [
    "result=classification_report(test_y,y_pred)\n",
    "print(result)"
   ]
  },
  {
   "cell_type": "code",
   "execution_count": 30,
   "metadata": {
    "collapsed": false
   },
   "outputs": [],
   "source": [
    "rfi=rf.feature_importances_"
   ]
  },
  {
   "cell_type": "code",
   "execution_count": 31,
   "metadata": {
    "collapsed": false
   },
   "outputs": [
    {
     "name": "stdout",
     "output_type": "stream",
     "text": [
      "bonus:0.0314907401216\n",
      "deferral_payments:0.0492887385084\n",
      "deferred_income:0.0929921163057\n",
      "exercised_stock_options:0.0795264444389\n",
      "expenses:0.0660697720411\n",
      "from_messages:0.0436667155669\n",
      "from_poi_to_this_person:0.0765784722059\n",
      "from_this_person_to_poi:0.110416441863\n",
      "long_term_incentive:0.0589381729701\n",
      "other:0.0251053674551\n",
      "restricted_stock:0.0488306671411\n",
      "salary:0.0646244666678\n",
      "shared_receipt_with_poi:0.0537884415636\n",
      "to_messages:0.0132052052052\n",
      "total_payments:0.0794282989227\n",
      "total_stock_value:0.106049939023\n"
     ]
    }
   ],
   "source": [
    "for i,r in enumerate(rf.feature_importances_):\n",
    "    print(ndf.columns[i]+\":\"+str(r))"
   ]
  },
  {
   "cell_type": "markdown",
   "metadata": {},
   "source": [
    "sort feature importances"
   ]
  }
 ],
 "metadata": {
  "kernelspec": {
   "display_name": "Python 3",
   "language": "python",
   "name": "python3"
  },
  "language_info": {
   "codemirror_mode": {
    "name": "ipython",
    "version": 3
   },
   "file_extension": ".py",
   "mimetype": "text/x-python",
   "name": "python",
   "nbconvert_exporter": "python",
   "pygments_lexer": "ipython3",
   "version": "3.4.2"
  }
 },
 "nbformat": 4,
 "nbformat_minor": 0
}
