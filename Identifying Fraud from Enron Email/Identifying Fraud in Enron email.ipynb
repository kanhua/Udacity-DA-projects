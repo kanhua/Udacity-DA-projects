{
 "cells": [
  {
   "cell_type": "markdown",
   "metadata": {},
   "source": [
    "# Identifying Fraud from Enron Email\n",
    "The aim of this project to identify person of interest (poi) on in Enron scandal from a given dataset.\n",
    "Original dataset and starter's code can be downloaded from [this github repository](https://github.com/udacity/ud120-projects.git).\n",
    "\n",
    "The analysis is performed with the following procedure. We start with an exploratory analysis and then we clean the dataset based on our observation. After that, we add some new features into the dataset. Finally, we select features and run a couple of machine learning algrithms to identify ```poi```. These steps are summarized as below:"
   ]
  },
  {
   "cell_type": "markdown",
   "metadata": {},
   "source": [
    "[Exploratory Analysis](#Exploratory-Analysis)\n",
    "\n",
    "[Removing outliers](#Removing-outliers)\n",
    "\n",
    "[Selecting features manually](#Selecting-features-manually)\n",
    "\n",
    "[Engineering new features](#Engineering-new-features)\n",
    "\n",
    "[Feature Selection](#Feature-selection)\n",
    "\n",
    "[Tuning the classification model](#Tuning-the-classification-model)"
   ]
  },
  {
   "cell_type": "markdown",
   "metadata": {},
   "source": [
    "## About this implementation\n",
    "This implementation takes a slightly different approach compared with the starter's code. We first convert the raw data file ```final_project_dataset.pkl``` into a pandas dataframe. Most of the exploratory analysis and operations of this dataset were performed using pandas library. This ipython notebook was tested using python 3.4.\n",
    "\n",
    "```final_project_dataset.pkl```: the original dataset. \n",
    "\n",
    "```scoring.py```: this file contains the function for evaluating the classification results.\n",
    "- ```calc_score()```: this function uses the same method as ```test_classifier``` in the starter's code to evalulate precision, recall and f1 scores.\n",
    "\n",
    "```preprocess_data.py```: this file contains the functions that do the preprocessing of the raw data.\n",
    "- ```pkl_to_df()```: Read the raw pkl file and convert the contents in the pkl file into a python dataframe.\n",
    "- ```extract_df()```: Return the features and labels in the dataframe as numpy arrays.\n",
    "- ```FeatureSel```: A class that selects the features using ```SelectKBest``` and ```PCA``` in ```sklearn```.\n",
    "\n",
    "```poi_id.py```: the mail file that does the classification. This is the final submission file for the project.\n"
   ]
  },
  {
   "cell_type": "code",
   "execution_count": 10,
   "metadata": {
    "collapsed": true
   },
   "outputs": [],
   "source": [
    "%matplotlib inline\n",
    "import pandas as pd\n",
    "import numpy as np\n",
    "import matplotlib.pyplot as plt\n",
    "import pickle\n",
    "import copy\n",
    "\n",
    "from sklearn.svm import LinearSVC\n",
    "from sklearn.preprocessing import scale,StandardScaler,Imputer\n",
    "from sklearn.pipeline import Pipeline\n",
    "from sklearn.naive_bayes import GaussianNB\n",
    "from sklearn.linear_model import RidgeClassifier\n",
    "from sklearn.ensemble import RandomForestClassifier, GradientBoostingClassifier,AdaBoostClassifier\n",
    "from sklearn.feature_selection import SelectKBest\n",
    "from sklearn.decomposition import PCA\n",
    "from sklearn.grid_search import GridSearchCV\n",
    "\n",
    "from scoring import calc_score\n",
    "from preprocess_data import pkl_to_df,extract_df,linearsvc_outlier_rm,FeatureSel,add_features"
   ]
  },
  {
   "cell_type": "markdown",
   "metadata": {},
   "source": [
    "## Exploratory Analysis\n",
    "In this section, we loads the data and explore some basic information of this dataset. Since the values in the feature *\"email_address\"* are string, we will exclude this in the later analysis."
   ]
  },
  {
   "cell_type": "code",
   "execution_count": 11,
   "metadata": {
    "collapsed": true
   },
   "outputs": [],
   "source": [
    "# Load the dataset and convert it to a pandas dataframe\n",
    "df=pkl_to_df(rows_to_remove=[],cols_to_remove=[\"email_address\"])\n",
    "df=df.convert_objects(convert_numeric=True)"
   ]
  },
  {
   "cell_type": "markdown",
   "metadata": {},
   "source": [
    "#### Dimension of the data"
   ]
  },
  {
   "cell_type": "code",
   "execution_count": 12,
   "metadata": {
    "collapsed": false
   },
   "outputs": [
    {
     "data": {
      "text/plain": [
       "(146, 20)"
      ]
     },
     "execution_count": 12,
     "metadata": {},
     "output_type": "execute_result"
    }
   ],
   "source": [
    "df.shape"
   ]
  },
  {
   "cell_type": "code",
   "execution_count": 13,
   "metadata": {
    "collapsed": false
   },
   "outputs": [
    {
     "data": {
      "text/plain": [
       "Index(['bonus', 'deferral_payments', 'deferred_income', 'director_fees',\n",
       "       'exercised_stock_options', 'expenses', 'from_messages',\n",
       "       'from_poi_to_this_person', 'from_this_person_to_poi', 'loan_advances',\n",
       "       'long_term_incentive', 'other', 'poi', 'restricted_stock',\n",
       "       'restricted_stock_deferred', 'salary', 'shared_receipt_with_poi',\n",
       "       'to_messages', 'total_payments', 'total_stock_value'],\n",
       "      dtype='object')"
      ]
     },
     "execution_count": 13,
     "metadata": {},
     "output_type": "execute_result"
    }
   ],
   "source": [
    "df.columns"
   ]
  },
  {
   "cell_type": "markdown",
   "metadata": {},
   "source": [
    "This data set has 145 entries and 21 features, including ```poi```. Note that we have already excluded \"email_address\" in the dataframe ```df```."
   ]
  },
  {
   "cell_type": "markdown",
   "metadata": {},
   "source": [
    "#### Statistics of dependent variable ```poi```\n",
    "We now use ```describe()``` function to explore the summary of the feature ```poi```:"
   ]
  },
  {
   "cell_type": "code",
   "execution_count": 14,
   "metadata": {
    "collapsed": false
   },
   "outputs": [
    {
     "data": {
      "text/plain": [
       "count          146\n",
       "mean     0.1232877\n",
       "std      0.3298989\n",
       "min          False\n",
       "25%              0\n",
       "50%              0\n",
       "75%              0\n",
       "max           True\n",
       "Name: poi, dtype: object"
      ]
     },
     "execution_count": 14,
     "metadata": {},
     "output_type": "execute_result"
    }
   ],
   "source": [
    "df[\"poi\"].describe()"
   ]
  },
  {
   "cell_type": "markdown",
   "metadata": {},
   "source": [
    "The mean value indicates that only 12.4% of ```poi``` is ```True```. In the above result, ```count``` is the number of total non-NaN values. The ```count``` of ```poi``` equals to the total rows, showing that every row has a ```poi``` value."
   ]
  },
  {
   "cell_type": "markdown",
   "metadata": {},
   "source": [
    "#### NaN in each feature\n",
    "We can then use ```transpose()``` and ```count``` to explore the ratio of non-NaN values in each feature: "
   ]
  },
  {
   "cell_type": "code",
   "execution_count": 15,
   "metadata": {
    "collapsed": false
   },
   "outputs": [
    {
     "data": {
      "text/plain": [
       "bonus                         0.5616438\n",
       "deferral_payments             0.2671233\n",
       "deferred_income               0.3356164\n",
       "director_fees                 0.1164384\n",
       "exercised_stock_options       0.6986301\n",
       "expenses                      0.6506849\n",
       "from_messages                 0.5890411\n",
       "from_poi_to_this_person       0.5890411\n",
       "from_this_person_to_poi       0.5890411\n",
       "loan_advances                0.02739726\n",
       "long_term_incentive           0.4520548\n",
       "other                         0.6369863\n",
       "poi                                   1\n",
       "restricted_stock              0.7534247\n",
       "restricted_stock_deferred     0.1232877\n",
       "salary                        0.6506849\n",
       "shared_receipt_with_poi       0.5890411\n",
       "to_messages                   0.5890411\n",
       "total_payments                0.8561644\n",
       "total_stock_value             0.8630137\n",
       "Name: count, dtype: object"
      ]
     },
     "execution_count": 15,
     "metadata": {},
     "output_type": "execute_result"
    }
   ],
   "source": [
    "df.describe().transpose()[\"count\"]/df.shape[0]"
   ]
  },
  {
   "cell_type": "markdown",
   "metadata": {},
   "source": [
    "This result shows that every feature has NaN values except ```poi```. The features ```loan_advances``` has the lowest ratio of non-NaN data, which is only 2%. In the following analysis, we will treat these NaN as zero."
   ]
  },
  {
   "cell_type": "markdown",
   "metadata": {},
   "source": [
    "## Using random forest to  classify the raw dataset\n",
    "We now set up a random forests classifier to test the results of the classificaion at each stage of data preprocessing."
   ]
  },
  {
   "cell_type": "code",
   "execution_count": 16,
   "metadata": {
    "collapsed": false
   },
   "outputs": [
    {
     "name": "stdout",
     "output_type": "stream",
     "text": [
      "precision: 0.3028485757121439\n",
      "recall: 0.101\n",
      "f1: 0.15148106486689164\n"
     ]
    }
   ],
   "source": [
    "rf=RandomForestClassifier()\n",
    "df.fillna(0,inplace=True)\n",
    "X,y,_=extract_df(df)\n",
    "calc_score(X,y,rf)"
   ]
  },
  {
   "cell_type": "markdown",
   "metadata": {},
   "source": [
    "## Removing outliers"
   ]
  },
  {
   "cell_type": "markdown",
   "metadata": {},
   "source": [
    "In this section, we will remove the data points that may not be appropriate to include for further analysis.\n",
    "As discussed in the mini-project of the course, the dataset includes an entry that is the total of the financial features. Therefore we should remove this entry *TOTAL* before further analyzing the data. Also, we found that all the features of *LOCKHART EUGENE E* are NaN except ```poi```:"
   ]
  },
  {
   "cell_type": "code",
   "execution_count": 17,
   "metadata": {
    "collapsed": false
   },
   "outputs": [
    {
     "data": {
      "text/plain": [
       "bonus                            0\n",
       "deferral_payments                0\n",
       "deferred_income                  0\n",
       "director_fees                    0\n",
       "exercised_stock_options          0\n",
       "expenses                         0\n",
       "from_messages                    0\n",
       "from_poi_to_this_person          0\n",
       "from_this_person_to_poi          0\n",
       "loan_advances                    0\n",
       "long_term_incentive              0\n",
       "other                            0\n",
       "poi                          False\n",
       "restricted_stock                 0\n",
       "restricted_stock_deferred        0\n",
       "salary                           0\n",
       "shared_receipt_with_poi          0\n",
       "to_messages                      0\n",
       "total_payments                   0\n",
       "total_stock_value                0\n",
       "Name: LOCKHART EUGENE E, dtype: object"
      ]
     },
     "execution_count": 17,
     "metadata": {},
     "output_type": "execute_result"
    }
   ],
   "source": [
    "df.loc[\"LOCKHART EUGENE E\",:]"
   ]
  },
  {
   "cell_type": "markdown",
   "metadata": {},
   "source": [
    "Here we will remove both *TOTAL*,*LOCKHART EUGENE E* and see how it affect the results of random forests classifier."
   ]
  },
  {
   "cell_type": "code",
   "execution_count": 36,
   "metadata": {
    "collapsed": false
   },
   "outputs": [
    {
     "name": "stdout",
     "output_type": "stream",
     "text": [
      "precision: 0.34930448222565685\n",
      "recall: 0.113\n",
      "f1: 0.1707593502077824\n"
     ]
    }
   ],
   "source": [
    "rows_to_remove=[\"TOTAL\",\"LOCKHART EUGENE E\"]\n",
    "ro_df=pkl_to_df(rows_to_remove=rows_to_remove)\n",
    "ro_df=ro_df.convert_objects(convert_numeric=True)\n",
    "X,y,_=extract_df(ro_df.fillna(0))\n",
    "calc_score(X,y,rf)"
   ]
  },
  {
   "cell_type": "markdown",
   "metadata": {},
   "source": [
    "This result shows that all the scores slightly improved after the outliters are removed."
   ]
  },
  {
   "cell_type": "markdown",
   "metadata": {},
   "source": [
    "## Selecting features manually\n",
    "First we use ```describe()``` to list the basic statistical information of each feature."
   ]
  },
  {
   "cell_type": "code",
   "execution_count": 19,
   "metadata": {
    "collapsed": false
   },
   "outputs": [
    {
     "data": {
      "text/html": [
       "<div>\n",
       "<table border=\"1\" class=\"dataframe\">\n",
       "  <thead>\n",
       "    <tr style=\"text-align: right;\">\n",
       "      <th></th>\n",
       "      <th>count</th>\n",
       "      <th>mean</th>\n",
       "      <th>std</th>\n",
       "      <th>min</th>\n",
       "      <th>25%</th>\n",
       "      <th>50%</th>\n",
       "      <th>75%</th>\n",
       "      <th>max</th>\n",
       "    </tr>\n",
       "  </thead>\n",
       "  <tbody>\n",
       "    <tr>\n",
       "      <th>bonus</th>\n",
       "      <td>81</td>\n",
       "      <td>1201773</td>\n",
       "      <td>1441679</td>\n",
       "      <td>70000</td>\n",
       "      <td>425000</td>\n",
       "      <td>750000</td>\n",
       "      <td>1200000</td>\n",
       "      <td>8000000</td>\n",
       "    </tr>\n",
       "    <tr>\n",
       "      <th>deferral_payments</th>\n",
       "      <td>38</td>\n",
       "      <td>841602.5</td>\n",
       "      <td>1289323</td>\n",
       "      <td>-102500</td>\n",
       "      <td>79644.5</td>\n",
       "      <td>221063.5</td>\n",
       "      <td>867211.2</td>\n",
       "      <td>6426990</td>\n",
       "    </tr>\n",
       "    <tr>\n",
       "      <th>deferred_income</th>\n",
       "      <td>48</td>\n",
       "      <td>-581049.8</td>\n",
       "      <td>942076.4</td>\n",
       "      <td>-3504386</td>\n",
       "      <td>-611209.2</td>\n",
       "      <td>-151927</td>\n",
       "      <td>-37926</td>\n",
       "      <td>-833</td>\n",
       "    </tr>\n",
       "    <tr>\n",
       "      <th>director_fees</th>\n",
       "      <td>16</td>\n",
       "      <td>89822.88</td>\n",
       "      <td>41112.7</td>\n",
       "      <td>3285</td>\n",
       "      <td>83674.5</td>\n",
       "      <td>106164.5</td>\n",
       "      <td>112815</td>\n",
       "      <td>137864</td>\n",
       "    </tr>\n",
       "    <tr>\n",
       "      <th>exercised_stock_options</th>\n",
       "      <td>101</td>\n",
       "      <td>2959559</td>\n",
       "      <td>5499450</td>\n",
       "      <td>3285</td>\n",
       "      <td>506765</td>\n",
       "      <td>1297049</td>\n",
       "      <td>2542813</td>\n",
       "      <td>3.434838e+07</td>\n",
       "    </tr>\n",
       "    <tr>\n",
       "      <th>expenses</th>\n",
       "      <td>94</td>\n",
       "      <td>54192.01</td>\n",
       "      <td>46108.38</td>\n",
       "      <td>148</td>\n",
       "      <td>22479</td>\n",
       "      <td>46547.5</td>\n",
       "      <td>78408.5</td>\n",
       "      <td>228763</td>\n",
       "    </tr>\n",
       "    <tr>\n",
       "      <th>from_messages</th>\n",
       "      <td>86</td>\n",
       "      <td>608.7907</td>\n",
       "      <td>1841.034</td>\n",
       "      <td>12</td>\n",
       "      <td>22.75</td>\n",
       "      <td>41</td>\n",
       "      <td>145.5</td>\n",
       "      <td>14368</td>\n",
       "    </tr>\n",
       "    <tr>\n",
       "      <th>from_poi_to_this_person</th>\n",
       "      <td>86</td>\n",
       "      <td>64.89535</td>\n",
       "      <td>86.97924</td>\n",
       "      <td>0</td>\n",
       "      <td>10</td>\n",
       "      <td>35</td>\n",
       "      <td>72.25</td>\n",
       "      <td>528</td>\n",
       "    </tr>\n",
       "    <tr>\n",
       "      <th>from_this_person_to_poi</th>\n",
       "      <td>86</td>\n",
       "      <td>41.23256</td>\n",
       "      <td>100.0731</td>\n",
       "      <td>0</td>\n",
       "      <td>1</td>\n",
       "      <td>8</td>\n",
       "      <td>24.75</td>\n",
       "      <td>609</td>\n",
       "    </tr>\n",
       "    <tr>\n",
       "      <th>loan_advances</th>\n",
       "      <td>3</td>\n",
       "      <td>2.7975e+07</td>\n",
       "      <td>4.638256e+07</td>\n",
       "      <td>400000</td>\n",
       "      <td>1200000</td>\n",
       "      <td>2000000</td>\n",
       "      <td>4.17625e+07</td>\n",
       "      <td>8.1525e+07</td>\n",
       "    </tr>\n",
       "    <tr>\n",
       "      <th>long_term_incentive</th>\n",
       "      <td>65</td>\n",
       "      <td>746491.2</td>\n",
       "      <td>862917.4</td>\n",
       "      <td>69223</td>\n",
       "      <td>275000</td>\n",
       "      <td>422158</td>\n",
       "      <td>831809</td>\n",
       "      <td>5145434</td>\n",
       "    </tr>\n",
       "    <tr>\n",
       "      <th>other</th>\n",
       "      <td>92</td>\n",
       "      <td>465276.7</td>\n",
       "      <td>1389719</td>\n",
       "      <td>2</td>\n",
       "      <td>1209</td>\n",
       "      <td>51984.5</td>\n",
       "      <td>357577.2</td>\n",
       "      <td>1.035973e+07</td>\n",
       "    </tr>\n",
       "    <tr>\n",
       "      <th>poi</th>\n",
       "      <td>144</td>\n",
       "      <td>0.125</td>\n",
       "      <td>0.3318733</td>\n",
       "      <td>False</td>\n",
       "      <td>0</td>\n",
       "      <td>0</td>\n",
       "      <td>0</td>\n",
       "      <td>True</td>\n",
       "    </tr>\n",
       "    <tr>\n",
       "      <th>restricted_stock</th>\n",
       "      <td>109</td>\n",
       "      <td>1147424</td>\n",
       "      <td>2249770</td>\n",
       "      <td>-2604490</td>\n",
       "      <td>252055</td>\n",
       "      <td>441096</td>\n",
       "      <td>985032</td>\n",
       "      <td>1.476169e+07</td>\n",
       "    </tr>\n",
       "    <tr>\n",
       "      <th>restricted_stock_deferred</th>\n",
       "      <td>17</td>\n",
       "      <td>621892.8</td>\n",
       "      <td>3845528</td>\n",
       "      <td>-1787380</td>\n",
       "      <td>-329825</td>\n",
       "      <td>-140264</td>\n",
       "      <td>-72419</td>\n",
       "      <td>1.545629e+07</td>\n",
       "    </tr>\n",
       "    <tr>\n",
       "      <th>salary</th>\n",
       "      <td>94</td>\n",
       "      <td>284087.5</td>\n",
       "      <td>177131.1</td>\n",
       "      <td>477</td>\n",
       "      <td>211802</td>\n",
       "      <td>258741</td>\n",
       "      <td>308606.5</td>\n",
       "      <td>1111258</td>\n",
       "    </tr>\n",
       "    <tr>\n",
       "      <th>shared_receipt_with_poi</th>\n",
       "      <td>86</td>\n",
       "      <td>1176.465</td>\n",
       "      <td>1178.318</td>\n",
       "      <td>2</td>\n",
       "      <td>249.75</td>\n",
       "      <td>740.5</td>\n",
       "      <td>1888.25</td>\n",
       "      <td>5521</td>\n",
       "    </tr>\n",
       "    <tr>\n",
       "      <th>to_messages</th>\n",
       "      <td>86</td>\n",
       "      <td>2073.86</td>\n",
       "      <td>2582.701</td>\n",
       "      <td>57</td>\n",
       "      <td>541.25</td>\n",
       "      <td>1211</td>\n",
       "      <td>2634.75</td>\n",
       "      <td>15149</td>\n",
       "    </tr>\n",
       "    <tr>\n",
       "      <th>total_payments</th>\n",
       "      <td>124</td>\n",
       "      <td>2623421</td>\n",
       "      <td>9488106</td>\n",
       "      <td>148</td>\n",
       "      <td>386380.2</td>\n",
       "      <td>1100246</td>\n",
       "      <td>2084663</td>\n",
       "      <td>1.035598e+08</td>\n",
       "    </tr>\n",
       "    <tr>\n",
       "      <th>total_stock_value</th>\n",
       "      <td>125</td>\n",
       "      <td>3352073</td>\n",
       "      <td>6532883</td>\n",
       "      <td>-44093</td>\n",
       "      <td>494136</td>\n",
       "      <td>1095040</td>\n",
       "      <td>2606763</td>\n",
       "      <td>4.911008e+07</td>\n",
       "    </tr>\n",
       "  </tbody>\n",
       "</table>\n",
       "</div>"
      ],
      "text/plain": [
       "                          count        mean           std      min       25%  \\\n",
       "bonus                        81     1201773       1441679    70000    425000   \n",
       "deferral_payments            38    841602.5       1289323  -102500   79644.5   \n",
       "deferred_income              48   -581049.8      942076.4 -3504386 -611209.2   \n",
       "director_fees                16    89822.88       41112.7     3285   83674.5   \n",
       "exercised_stock_options     101     2959559       5499450     3285    506765   \n",
       "expenses                     94    54192.01      46108.38      148     22479   \n",
       "from_messages                86    608.7907      1841.034       12     22.75   \n",
       "from_poi_to_this_person      86    64.89535      86.97924        0        10   \n",
       "from_this_person_to_poi      86    41.23256      100.0731        0         1   \n",
       "loan_advances                 3  2.7975e+07  4.638256e+07   400000   1200000   \n",
       "long_term_incentive          65    746491.2      862917.4    69223    275000   \n",
       "other                        92    465276.7       1389719        2      1209   \n",
       "poi                         144       0.125     0.3318733    False         0   \n",
       "restricted_stock            109     1147424       2249770 -2604490    252055   \n",
       "restricted_stock_deferred    17    621892.8       3845528 -1787380   -329825   \n",
       "salary                       94    284087.5      177131.1      477    211802   \n",
       "shared_receipt_with_poi      86    1176.465      1178.318        2    249.75   \n",
       "to_messages                  86     2073.86      2582.701       57    541.25   \n",
       "total_payments              124     2623421       9488106      148  386380.2   \n",
       "total_stock_value           125     3352073       6532883   -44093    494136   \n",
       "\n",
       "                                50%          75%           max  \n",
       "bonus                        750000      1200000       8000000  \n",
       "deferral_payments          221063.5     867211.2       6426990  \n",
       "deferred_income             -151927       -37926          -833  \n",
       "director_fees              106164.5       112815        137864  \n",
       "exercised_stock_options     1297049      2542813  3.434838e+07  \n",
       "expenses                    46547.5      78408.5        228763  \n",
       "from_messages                    41        145.5         14368  \n",
       "from_poi_to_this_person          35        72.25           528  \n",
       "from_this_person_to_poi           8        24.75           609  \n",
       "loan_advances               2000000  4.17625e+07    8.1525e+07  \n",
       "long_term_incentive          422158       831809       5145434  \n",
       "other                       51984.5     357577.2  1.035973e+07  \n",
       "poi                               0            0          True  \n",
       "restricted_stock             441096       985032  1.476169e+07  \n",
       "restricted_stock_deferred   -140264       -72419  1.545629e+07  \n",
       "salary                       258741     308606.5       1111258  \n",
       "shared_receipt_with_poi       740.5      1888.25          5521  \n",
       "to_messages                    1211      2634.75         15149  \n",
       "total_payments              1100246      2084663  1.035598e+08  \n",
       "total_stock_value           1095040      2606763  4.911008e+07  "
      ]
     },
     "execution_count": 19,
     "metadata": {},
     "output_type": "execute_result"
    }
   ],
   "source": [
    "ro_df.describe().transpose()"
   ]
  },
  {
   "cell_type": "markdown",
   "metadata": {},
   "source": [
    "From the above result, we noticed that the most values of the feature *loan_advances* are NAs. Since only three entries of this feature has values, it is reasonable to ignore this feature to reduce the variances in the model. The following test shows that leaving out this feature for classification increase the overall precision, recall and f1 scores a little bit."
   ]
  },
  {
   "cell_type": "code",
   "execution_count": 20,
   "metadata": {
    "collapsed": false
   },
   "outputs": [
    {
     "name": "stdout",
     "output_type": "stream",
     "text": [
      "precision: 0.3161290322580645\n",
      "recall: 0.098\n",
      "f1: 0.14961832061068703\n"
     ]
    }
   ],
   "source": [
    "sf1_df=ro_df.drop([\"loan_advances\"],axis=1)\n",
    "sf1_df=sf1_df.convert_objects(convert_numeric=True)\n",
    "sf1_df=ro_df.copy()\n",
    "X,y,_=extract_df(sf1_df.fillna(0))\n",
    "calc_score(X,y,rf)"
   ]
  },
  {
   "cell_type": "markdown",
   "metadata": {},
   "source": [
    "## Engineering new features"
   ]
  },
  {
   "cell_type": "markdown",
   "metadata": {},
   "source": [
    "We noticed that many financial features in this dataset has very wide range. The difference can be several orders of magnitudes. This distribution can potentially biased the results of classifications. Take the feature ```exercised_stock_options``` for example:"
   ]
  },
  {
   "cell_type": "code",
   "execution_count": 38,
   "metadata": {
    "collapsed": false
   },
   "outputs": [
    {
     "data": {
      "text/plain": [
       "<matplotlib.axes._subplots.AxesSubplot at 0x10ef15e10>"
      ]
     },
     "execution_count": 38,
     "metadata": {},
     "output_type": "execute_result"
    },
    {
     "data": {
      "image/png": "[encoded data removed]",
      "text/plain": [
       "<matplotlib.figure.Figure at 0x10ee0f0b8>"
      ]
     },
     "metadata": {},
     "output_type": "display_data"
    }
   ],
   "source": [
    "f=\"exercised_stock_options\"\n",
    "sf1_df[f].hist(bins=100)"
   ]
  },
  {
   "cell_type": "markdown",
   "metadata": {},
   "source": [
    "In the above figure, we can see a long tail at large values of ```exercised_stock_options```. Taking logarithms of the feature ```exercised_stock_options``` makes the distribution less skewed:"
   ]
  },
  {
   "cell_type": "code",
   "execution_count": 23,
   "metadata": {
    "collapsed": false
   },
   "outputs": [
    {
     "data": {
      "text/plain": [
       "<matplotlib.axes._subplots.AxesSubplot at 0x10e9c5828>"
      ]
     },
     "execution_count": 23,
     "metadata": {},
     "output_type": "execute_result"
    },
    {
     "data": {
      "image/png": "[encoded data removed]",
      "text/plain": [
       "<matplotlib.figure.Figure at 0x10ebe9898>"
      ]
     },
     "metadata": {},
     "output_type": "display_data"
    }
   ],
   "source": [
    "np.log10(sf1_df[f]).hist(bins=100)"
   ]
  },
  {
   "cell_type": "markdown",
   "metadata": {},
   "source": [
    "In this way, we can keep the data with extreme values but reduces its impact on classification. Since we can only perform logarithms on postive numbers, we thus adopt the following tricks to deal with zeros and negative numbers.\n",
    "1. Filling NaN or zeros values with zeros in the logarithmic features. We can do this because the financial features can never be less than 1 ($10^0$). Also, 0 and 1 have no substantial differences in these financial features.\n",
    "2. If a financial feature has negative values, we convert it into two features. One stores the positive values, and another store the negative values. For example, ```p_total_stock_value``` stores postivie values of ```total_stock_value```, while ```n_total_stock_value``` stores negative values of ```total_stock_value```.\n",
    "\n",
    "These operations are implemented in ```add_features()``` in ```preprocess_data.py```. Since we make this function compatible with the data structure used in ```poi_id.py```, we have to reload the raw data file, perform ```add_features()```, and converti it to pandas dataframe again."
   ]
  },
  {
   "cell_type": "code",
   "execution_count": 40,
   "metadata": {
    "collapsed": false
   },
   "outputs": [],
   "source": [
    "pkl_file=\"./data/final_project_dataset.pkl\"\n",
    "data_dict=pickle.load(open(pkl_file,\"rb\"),fix_imports=False,encoding=\"latin1\")\n",
    "\n",
    "# Features to be included. Everything except \"email_address\" and \"loan_advances\"\n",
    "features_list = ['poi', 'bonus', 'deferral_payments', 'deferred_income', 'director_fees',\n",
    "                 'exercised_stock_options', 'expenses', 'from_messages',\n",
    "                 'from_poi_to_this_person', 'from_this_person_to_poi',\n",
    "                 'long_term_incentive', 'other', 'restricted_stock',\n",
    "                 'restricted_stock_deferred', 'salary', 'shared_receipt_with_poi',\n",
    "                 'to_messages', 'total_payments', 'total_stock_value']\n",
    "\n",
    "# Delete the outliers\n",
    "del data_dict[\"TOTAL\"]\n",
    "del data_dict[\"LOCKHART EUGENE E\"]\n",
    "\n",
    "# Take logarithms of finanacial features\n",
    "my_dataset, new_feature_names, financial_features = add_features(data_dict)\n",
    "\n",
    "# Convert the data to pandas dataframe\n",
    "sf2_df=pd.DataFrame(data_dict)\n",
    "sf2_df=sf2_df.convert_objects(convert_numeric=True)\n",
    "sf2_df=sf2_df.transpose()"
   ]
  },
  {
   "cell_type": "markdown",
   "metadata": {},
   "source": [
    "Again, we test this processed dataset using ```quickclf```:"
   ]
  },
  {
   "cell_type": "code",
   "execution_count": 42,
   "metadata": {
    "collapsed": false
   },
   "outputs": [
    {
     "name": "stdout",
     "output_type": "stream",
     "text": [
      "precision: 0.39565217391304347\n",
      "recall: 0.1365\n",
      "f1: 0.20297397769516728\n"
     ]
    }
   ],
   "source": [
    "X,y,_=extract_df(sf2_df.fillna(0))\n",
    "calc_score(X,y,rf)"
   ]
  },
  {
   "cell_type": "markdown",
   "metadata": {},
   "source": [
    "All the scores are slightly improved by using the new preprocessed dataset.\n",
    "## Summary of results of random forests\n",
    "Here we summarize the the results of each stage of data preporocessing using random forests classifier in the following table. The variation of *precision*, *recall* and *f1* are +/- 0.01. These scores are caculated by summing TP, TF, FP, FN 1000 times using stratified cross validation. This procedure is identical to the scoring function provided by the startup code.\n",
    "\n",
    "| data |dataframe|precision |recall|f1|\n",
    "|:--:|:--:|:--:|:--:|:---:|\n",
    "| raw data |df| ~0.263| ~0.083|~0.126|\n",
    "| removing outlier manually|ro_df|~0.34|~0.11|~0.166|\n",
    "| ```loan_advance``` removed|sf1_df|~0.32|~0.10|~0.15|\n",
    "| adding new features|sf2_df|~0.340|~0.12|~0.20|"
   ]
  },
  {
   "cell_type": "markdown",
   "metadata": {},
   "source": [
    "## Feature selection\n",
    "We combine two approaches to select features for training, one is univariate feature selection, and the other is principle component analysis. We select *m* features using ```SelectKBest``` is sklearn and select another *n* features using ```pca```, and then use these *m+n* features for classification. We wrap these process into the class ```FeatureSel```, which is compatible with standards defined by *sklearn* so that we can incorporate it into a sklearn pipeline. The implementation of this class is in [preprocess_data.py](./preprocess_data.py)\n"
   ]
  },
  {
   "cell_type": "markdown",
   "metadata": {},
   "source": [
    "## Tuning the classification model"
   ]
  },
  {
   "cell_type": "markdown",
   "metadata": {},
   "source": [
    "### LinearSVC\n",
    "First we use linear support vector machine (```LinearSVC```) to do the classification on both the dataset that with and without feature engineering. We setup a pipeline that consists of three different steps:\n",
    "1. ```FeatureSel```: As we mentioned in the previous section, this class select and combines the features yielded by ```SelectKBest``` and ```pca```.\n",
    "2. ```StandardScaler```: Since ```LinearSVC``` requires the all the features to be resclaed, we have to standarize the data before doing ```LinerSVC```.\n",
    "3. ```LinearSVC```: The main algorithm for calssification.\n",
    "\n",
    "We also set up a ```GridSearchCV``` class that scans some key parameter to fine tune the model. The parameters that we choose to optimize are C value of ```LinearSVC``` and the number of components selected by ```SelectKBest``` and ```pca```. C value is a regularization parameter. Larger C gives lower bias but higher variance, whereas smaller C gives higher bias but lower variance on the classification results."
   ]
  },
  {
   "cell_type": "markdown",
   "metadata": {},
   "source": [
    "#### LinearSVC with the data without feature engineering, with feature selection"
   ]
  },
  {
   "cell_type": "code",
   "execution_count": 45,
   "metadata": {
    "collapsed": false
   },
   "outputs": [
    {
     "name": "stdout",
     "output_type": "stream",
     "text": [
      "precision: 0.37894736842105264\n",
      "recall: 0.342\n",
      "f1: 0.359526938239159\n"
     ]
    }
   ],
   "source": [
    "fill_test_df=sf1_df.fillna(0)\n",
    "nX,y,cols=extract_df(fill_test_df)\n",
    "fsl=FeatureSel(k_best=5,pca_comp=5)\n",
    "sd=StandardScaler()\n",
    "ppl=Pipeline([(\"fsl\",fsl),(\"sd\",sd),(\"lvc\",LinearSVC())])\n",
    "gscv=GridSearchCV(ppl,{\"lvc__C\":np.logspace(-6,-1,10)},scoring=\"recall\",verbose=0)\n",
    "gscv.fit(nX,y)\n",
    "calc_score(nX,y,gscv.best_estimator_,n_iter=100)"
   ]
  },
  {
   "cell_type": "markdown",
   "metadata": {},
   "source": [
    "#### LinearSVC with the data without feature engineering, without feature selection"
   ]
  },
  {
   "cell_type": "code",
   "execution_count": 48,
   "metadata": {
    "collapsed": false
   },
   "outputs": [
    {
     "name": "stdout",
     "output_type": "stream",
     "text": [
      "precision: 0.25611857980006897\n",
      "recall: 0.3715\n",
      "f1: 0.3032034278718629\n"
     ]
    }
   ],
   "source": [
    "fill_test_df=sf1_df.fillna(0)\n",
    "nX,y,cols=extract_df(fill_test_df)\n",
    "sd=StandardScaler()\n",
    "ppl_nofsl=Pipeline([(\"sd\",sd),(\"lvc\",LinearSVC())])\n",
    "gscv=GridSearchCV(ppl_nofsl,{\"lvc__C\":np.logspace(-6,-1,10)},scoring=\"recall\",verbose=0)\n",
    "gscv.fit(nX,y)\n",
    "calc_score(nX,y,gscv.best_estimator_,n_iter=100)"
   ]
  },
  {
   "cell_type": "markdown",
   "metadata": {},
   "source": [
    "#### LinearSVC with the dataset with feature engineering, with feature selection"
   ]
  },
  {
   "cell_type": "code",
   "execution_count": 28,
   "metadata": {
    "collapsed": false
   },
   "outputs": [
    {
     "name": "stdout",
     "output_type": "stream",
     "text": [
      "precision: 0.36608961303462323\n",
      "recall: 0.3595\n",
      "f1: 0.3627648839556004\n"
     ]
    }
   ],
   "source": [
    "fill_test_df=sf2_df.fillna(0)\n",
    "nX2,ny,cols=extract_df(fill_test_df)\n",
    "fsl=FeatureSel(k_best=5,pca_comp=5)\n",
    "sd=StandardScaler()\n",
    "ppl=Pipeline([(\"fsl\",fsl),(\"sd\",sd),(\"lvc\",LinearSVC())])\n",
    "gscv=GridSearchCV(ppl,{\"lvc__C\":np.logspace(-6,-1,10),\"fsl__pca_comp\":[0,5,10]},scoring=\"recall\",verbose=0)\n",
    "calc_score(nX2,ny,gscv,n_iter=100)"
   ]
  },
  {
   "cell_type": "markdown",
   "metadata": {},
   "source": [
    "#### LinearSVC with the dataset with feature engineering, without feature selection"
   ]
  },
  {
   "cell_type": "code",
   "execution_count": 29,
   "metadata": {
    "collapsed": false
   },
   "outputs": [
    {
     "name": "stdout",
     "output_type": "stream",
     "text": [
      "precision: 0.29210134128166915\n",
      "recall: 0.686\n",
      "f1: 0.4097357025533821\n"
     ]
    }
   ],
   "source": [
    "fill_test_df=sf2_df.fillna(0)\n",
    "nX,y,cols=extract_df(fill_test_df)\n",
    "sd=StandardScaler()\n",
    "ppl_nofsl=Pipeline([(\"sd\",sd),(\"lvc\",LinearSVC())])\n",
    "gscv=GridSearchCV(ppl_nofsl,{\"lvc__C\":np.logspace(-6,-1,10)},scoring=\"roc_auc\",verbose=0)\n",
    "calc_score(nX,y,gscv,n_iter=100)"
   ]
  },
  {
   "cell_type": "markdown",
   "metadata": {},
   "source": [
    "### Random forest classification"
   ]
  },
  {
   "cell_type": "code",
   "execution_count": 30,
   "metadata": {
    "collapsed": false
   },
   "outputs": [
    {
     "name": "stdout",
     "output_type": "stream",
     "text": [
      "precision: 0.37989556135770236\n",
      "recall: 0.1455\n",
      "f1: 0.210412147505423\n"
     ]
    }
   ],
   "source": [
    "fill_test_df=sf2_df.fillna(0)\n",
    "nX,y,cols=extract_df(fill_test_df)\n",
    "fsl=FeatureSel(k_best=5,pca_comp=5)\n",
    "sd=StandardScaler()\n",
    "ppl=Pipeline([(\"fsl\",fsl),(\"rf\",RandomForestClassifier())])\n",
    "calc_score(nX,y,ppl)"
   ]
  },
  {
   "cell_type": "markdown",
   "metadata": {},
   "source": [
    "### AdaBoost classification\n",
    "We will also try AdaBoost and see if it can outperforms the reusults given by LinearSVC. The pipeline we set up is almost the same as the one we used in previous section, except that we repalce ```LinearSVC``` by ```AdaBoostClassifier```.\n",
    "\n",
    "The parameter that we will tune is the learning rate. This parameter controls how much the model is adjusted after each iteration. "
   ]
  },
  {
   "cell_type": "markdown",
   "metadata": {},
   "source": [
    "#### Test the dataset with feature engineering"
   ]
  },
  {
   "cell_type": "code",
   "execution_count": 31,
   "metadata": {
    "collapsed": false
   },
   "outputs": [
    {
     "name": "stdout",
     "output_type": "stream",
     "text": [
      "precision: 0.2754491017964072\n",
      "recall: 0.138\n",
      "f1: 0.1838774150566289\n"
     ]
    }
   ],
   "source": [
    "fill_test_df=sf2_df.fillna(0)\n",
    "nX,y,cols=extract_df(fill_test_df)\n",
    "fsl=FeatureSel(k_best=5,pca_comp=5)\n",
    "sd=StandardScaler()\n",
    "ppl=Pipeline([(\"fsl\",fsl),('sd',sd),(\"rf\",AdaBoostClassifier())])\n",
    "gscv=GridSearchCV(ppl,{\"rf__learning_rate\":np.logspace(-6,0,10)},\n",
    "                  scoring=\"recall\",verbose=0)\n",
    "calc_score(nX,y,gscv)"
   ]
  },
  {
   "cell_type": "code",
   "execution_count": 32,
   "metadata": {
    "collapsed": false
   },
   "outputs": [
    {
     "name": "stdout",
     "output_type": "stream",
     "text": [
      "precision: 0.3158620689655172\n",
      "recall: 0.229\n",
      "f1: 0.2655072463768116\n"
     ]
    }
   ],
   "source": [
    "fill_test_df=sf2_df.fillna(0)\n",
    "nX,y,cols=extract_df(fill_test_df)\n",
    "fsl=FeatureSel(k_best=5,pca_comp=5)\n",
    "sd=StandardScaler()\n",
    "ppl=Pipeline([(\"fsl\",fsl),('sd',sd),(\"rf\",AdaBoostClassifier())])\n",
    "gscv=GridSearchCV(ppl,{\"rf__learning_rate\":np.logspace(-6,0,5),\n",
    "                       \"fsl__k_best\":[1,5,10],\"fsl__pca_comp\":[0,5,10]},\n",
    "                  scoring=\"recall\",verbose=0)\n",
    "gscv.fit(nX,y)\n",
    "calc_score(nX,y,gscv.best_estimator_)"
   ]
  },
  {
   "cell_type": "markdown",
   "metadata": {},
   "source": [
    "#### Test dataset without feature engineering"
   ]
  },
  {
   "cell_type": "code",
   "execution_count": 33,
   "metadata": {
    "collapsed": false
   },
   "outputs": [
    {
     "name": "stdout",
     "output_type": "stream",
     "text": [
      "precision: 0.3352735739231665\n",
      "recall: 0.144\n",
      "f1: 0.20146904512067157\n"
     ]
    }
   ],
   "source": [
    "fill_test_df=sf1_df.fillna(0)\n",
    "nX,y,cols=extract_df(fill_test_df)\n",
    "fsl=FeatureSel(k_best=5,pca_comp=5)\n",
    "sd=StandardScaler()\n",
    "ppl=Pipeline([(\"fsl\",fsl),(\"sd\",sd),(\"rf\",AdaBoostClassifier())])\n",
    "gscv=GridSearchCV(ppl,{\"rf__learning_rate\":np.logspace(-6,0,10)},scoring=\"recall\",verbose=0)\n",
    "gscv.fit(nX,y)\n",
    "calc_score(nX,y,gscv.best_estimator_)"
   ]
  },
  {
   "cell_type": "code",
   "execution_count": 34,
   "metadata": {
    "collapsed": false
   },
   "outputs": [
    {
     "name": "stdout",
     "output_type": "stream",
     "text": [
      "precision: 0.3814064362336114\n",
      "recall: 0.16\n",
      "f1: 0.22543148996125395\n"
     ]
    }
   ],
   "source": [
    "fill_test_df=sf1_df.fillna(0)\n",
    "nX,y,cols=extract_df(fill_test_df)\n",
    "fsl=FeatureSel(k_best=5,pca_comp=5)\n",
    "sd=StandardScaler()\n",
    "ppl=Pipeline([(\"fsl\",fsl),(\"sd\",sd),(\"rf\",AdaBoostClassifier())])\n",
    "gscv=GridSearchCV(ppl,{\"rf__learning_rate\":np.logspace(-6,0,10)},scoring=\"recall\",verbose=0)\n",
    "gscv.fit(nX,y)\n",
    "calc_score(nX,y,gscv.best_estimator_)"
   ]
  },
  {
   "cell_type": "markdown",
   "metadata": {},
   "source": [
    "### Summarize the results of LinearSVC\n",
    "| dataframe |feature engineering|feature selection|algorithm|precision |recall|f1|\n",
    "|:--:|:--:|:--:|:--:|:---:|:-----:|:------:|\n",
    "|sf1_df|no|yes|LinearSVC|0|0|0|\n",
    "|sf1_df|no|no|LinearSVC|0|0|0|\n",
    "|sf2_df|yes|no|LinearSVC|0|0|0|\n",
    "|sf2_df|yes|yes|LinearSVC|0|0|0|\n",
    "|sf1_df|no|yes|AdaBoostClassifier|0|0|0|\n",
    "|sf1_df|no|no|AdaBoostClassifier|0|0|0|\n",
    "|sf2_df|yes|no|AdaBoostClassifier|0|0|0|\n",
    "|sf2_df|yes|yes|AdaBoostClassifier|0|0|0|\n"
   ]
  },
  {
   "cell_type": "markdown",
   "metadata": {},
   "source": [
    "### Analysis: What's the most important features?"
   ]
  },
  {
   "cell_type": "code",
   "execution_count": 35,
   "metadata": {
    "collapsed": false
   },
   "outputs": [
    {
     "data": {
      "text/plain": [
       "Index(['exercised_stock_options', 'total_stock_value', 'bonus', 'salary',\n",
       "       'deferred_income', 'long_term_incentive', 'restricted_stock',\n",
       "       'total_payments', 'shared_receipt_with_poi', 'loan_advances',\n",
       "       'expenses', 'from_poi_to_this_person', 'other',\n",
       "       'from_this_person_to_poi', 'director_fees', 'to_messages',\n",
       "       'deferral_payments', 'from_messages', 'restricted_stock_deferred'],\n",
       "      dtype='object')"
      ]
     },
     "execution_count": 35,
     "metadata": {},
     "output_type": "execute_result"
    }
   ],
   "source": [
    "sf3_df=sf1_df.fillna(0)\n",
    "X,y,cols=extract_df(sf3_df)\n",
    "skb=SelectKBest()\n",
    "nX=skb.fit_transform(X,y)\n",
    "skb.scores_\n",
    "sorted_idx=np.argsort(skb.scores_)[::-1]\n",
    "cols[sorted_idx]"
   ]
  },
  {
   "cell_type": "markdown",
   "metadata": {
    "collapsed": true
   },
   "source": [
    "## Reflection"
   ]
  },
  {
   "cell_type": "code",
   "execution_count": null,
   "metadata": {
    "collapsed": true
   },
   "outputs": [],
   "source": []
  }
 ],
 "metadata": {
  "kernelspec": {
   "display_name": "Python 3",
   "language": "python",
   "name": "python3"
  },
  "language_info": {
   "codemirror_mode": {
    "name": "ipython",
    "version": 3
   },
   "file_extension": ".py",
   "mimetype": "text/x-python",
   "name": "python",
   "nbconvert_exporter": "python",
   "pygments_lexer": "ipython3",
   "version": "3.4.2"
  }
 },
 "nbformat": 4,
 "nbformat_minor": 0
}
