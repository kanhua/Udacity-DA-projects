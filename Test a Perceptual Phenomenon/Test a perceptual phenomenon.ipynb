{
 "cells": [
  {
   "cell_type": "markdown",
   "metadata": {},
   "source": [
    "# Test a perceptual phenomenon"
   ]
  },
  {
   "cell_type": "markdown",
   "metadata": {},
   "source": [
    "## Background information\n",
    "(The following information is excerpted from the [project instruction](https://docs.google.com/document/d/1-OkpZLjG_kX9J6LIQ5IltsqMzVWjh36QpnP2RYpVdPU/pub?embedded=True))\n",
    "\n",
    "In a Stroop task, participants are presented with a list of words, with each word displayed in a color of ink. The participant’s task is to say out loud the color of the ink in which the word is printed. The task has two conditions: a congruent words condition, and an incongruent words condition. In the congruent words condition, the words being displayed are color words whose names match the colors in which they are printed: for example <font color=\"red\">RED</font>, <font color=\"blue\">BLUE</font>. In the incongruent words condition, the words displayed are color words whose names do not match the colors in which they are printed: for example <font color=\"orange\">PURPLE</font>, <font color=\"purple\">ORANGE</font>. In each case, we measure the time it takes to name the ink colors in equally-sized lists. Each participant will go through and record a time from each condition."
   ]
  },
  {
   "cell_type": "markdown",
   "metadata": {},
   "source": [
    "## Questions"
   ]
  },
  {
   "cell_type": "markdown",
   "metadata": {},
   "source": [
    "### 1. What is our independent variable? What is our dependent variable?\n",
    "In this test, the independent variable is the test situation, congruent or incongruent conditions. The dependent variable is the time it takes for the participants to name the color."
   ]
  },
  {
   "cell_type": "markdown",
   "metadata": {},
   "source": [
    "### 2. What is an appropriate set of hypotheses for this task? What kind of statistical test do you expect to perform? Justify your choices.\n",
    "#### Hypotheses\n",
    "In this dataset, each participant took tests under both *congruent* and *incongruent* conditions. As a result, we can use [paired difference test](https://en.wikipedia.org/wiki/Paired_difference_test) to explore the relation between these two experiment conditions.\n",
    "\n",
    "Let us denote $\\mathbf{T}_D=\\{T_D=Ti_i-Tc_i|i\\in \\mathbf{N}\\}$ as the population of the time differences between *congruent* and *incongruent* test of a person. $Ti_i$ and $Tc_i$ are the response time of incongruent test and congruent test of the i-th participant, respectively. $\\mathbf{N}$ is the set of index of a sufficiently large group of people. $\\mathbf{N}$ can thus be defined as:\n",
    "\\begin{align}\n",
    "\\mathbf{N}=\\{1,2,3,4,...,N\\}\n",
    "\\end{align}\n",
    "where $N$ is sufficiently large or infinite. In other words, $\\mathbf{T}_D$ is the set of time differences measured from a sufficiently large group of people. We then assume that the probability density function (PDF) of $\\mathbf{T}_D$ is a normal distribution, which is denoted as $N(\\mu_D,\\sigma_D^2)$, where $\\mu_D$ is the population mean and $\\sigma_D^2$ is the population variance.\n",
    "\n",
    "The null hypothesis is that $\\mu_D$ equals to zero, that is,\n",
    "\\begin{align}\n",
    "H_0: \\mu_D=0\n",
    "\\end{align}\n",
    "\n",
    "In this experiment, we are interested in whether the experiment conditions can change the response time of the participants. Therefore, the condition for rejecting the null hypothesis, or *alternative hypothesis*, is:\n",
    "\\begin{align}\n",
    "H_A: \\mu_D \\neq 0\n",
    "\\end{align}\n",
    "\n",
    "#### Statistical test\n",
    "We assumed that the PDF of $\\mathbf{X}_D$ is a normal distribution with unknown mean and variance. Also, the number of samples are relatively small (less than 30). Therefore, a [dependent t-test for paired samples](https://en.wikipedia.org/w/index.php?title=Student%27s_t-test&oldid=675920924#Dependent_t-test_for_paired_samples) is suitable for this case.\n",
    "\n",
    "#### One-tailed or two-tailed test\n",
    "Since our alternative hypothesis is $\\mu_D \\neq 0$, we will use a two-tailed test for this analysis. However, we may want to use one-tailed test if we are bearing the priori that *incongruent* condition may increase the response time to recognize the color. In this case, the alternative hypothesis is written as:\n",
    "\\begin{align}\n",
    "H_A: \\mu_D > 0\n",
    "\\end{align}\n",
    "As we mentioned before, in this experiment we are more interested in whether different experiment conditions cause any differences in the response time. Therefore, we will adopt two-tailed test in the following statistical analysis.\n",
    "\n",
    "#### Further remarks on using *dependent t-test for paired samples*\n",
    "Another option for analyzing this experiment result is using an [independent two-sample t-test with equal or unequal variances](https://en.wikipedia.org/w/index.php?title=Student%27s_t-test&oldid=675920924#Independent_two-sample_t-test).\n",
    "This time we denote that $\\mathbf{T}_C$ as the population of response time under the condition *congruent*, while $\\mathbf{T}_I$ as the population of reponse time under the condition *incongruent*. More formal definitions of $\\mathbf{T}_C$ and $\\mathbf{T}_I$ can be defined as below:\n",
    "\\begin{align}\n",
    "\\mathbf{T}_C&=\\{Tc_i|i\\in\\mathbf{N}\\}\n",
    "\\end{align}\n",
    "\\begin{align}\n",
    "\\mathbf{T}_I&=\\{Ti_i|i \\in \\mathbf{N} \\}\n",
    "\\end{align}\n",
    "We assume that the PDFs of $\\mathbf{T}_C$ and $\\mathbf{T}_I$ are normal distribution with their own population mean and variance:\n",
    "\\begin{align}\n",
    "\\mathbf{T}_C&\\sim \\mathcal{N}(\\mu_C,\\sigma_C^2)\n",
    "\\end{align}\n",
    "\\begin{align}\n",
    "\\mathbf{T}_I&\\sim \\mathcal{N}(\\mu_I,\\sigma_I^2)\n",
    "\\end{align}\n",
    "\n",
    "Since we are interested in whether these two conditions cause any differences in response time of the participants,\n",
    "the null hypothesis $H'_0$ is that the population means of the two test groups are equal:\n",
    "\\begin{align}\n",
    "H'_0: \\mu_C=\\mu_I\n",
    "\\end{align}\n",
    "while the alternative hypothesis is \n",
    "\\begin{align}\n",
    "H'_A: \\mu_C \\neq \\mu_I\n",
    "\\end{align}\n",
    "\n",
    "This null hypothesis can be tested by using a two-sample t-test, since the population means $\\mu_C$ and $\\mu_I$ are unknown. In addition, we can choose whether the variances $\\sigma_C^2$ and $\\sigma_I^2$ are equal or not.\n",
    "\n",
    "The null hypotheses of $H_0$ and $H'_0$ may look similar, but they do have some subtle differences. The null hypothesis $H_0$ only involves single population $\\mathbf{T}_D$. However, for testing the null hypothesis $H'_0$ we have two different population $\\mathbf{T}_C$ and $\\mathbf{T}_I$ to compare, which introduces additional uncertainties and reduces the statistical strength.\n",
    "\n",
    "Moreover, the conclusions yielded by rejecting $H_0$ and $H'_0$ are slightly different. Rejecting $H_0$ or accepting $H_A$ means that, in average, a person's response time difference caused by the experiment conditions is not zero. On the other hand, rejecting $H'_0$ or accepting $H'_A$ means that the averaged response time between the two test groups is different. In the former case, the focus is whether the response time remains the same of an individual, while in the latter case, we can only compare the mean response time of two groups with different experiment conditions."
   ]
  },
  {
   "cell_type": "markdown",
   "metadata": {},
   "source": [
    "### 3. Report some descriptive statistics regarding this dataset. Include at least one measure of central tendency and at least one measure of variability."
   ]
  },
  {
   "cell_type": "markdown",
   "metadata": {},
   "source": [
    "We can use the function ```describe()``` of ```pandas``` to show some descriptive statistics of this dataset:"
   ]
  },
  {
   "cell_type": "code",
   "execution_count": 1,
   "metadata": {
    "collapsed": false
   },
   "outputs": [
    {
     "data": {
      "text/html": [
       "<div>\n",
       "<table border=\"1\" class=\"dataframe\">\n",
       "  <thead>\n",
       "    <tr style=\"text-align: right;\">\n",
       "      <th></th>\n",
       "      <th>Congruent</th>\n",
       "      <th>Incongruent</th>\n",
       "    </tr>\n",
       "  </thead>\n",
       "  <tbody>\n",
       "    <tr>\n",
       "      <th>count</th>\n",
       "      <td>24.000000</td>\n",
       "      <td>24.000000</td>\n",
       "    </tr>\n",
       "    <tr>\n",
       "      <th>mean</th>\n",
       "      <td>14.051125</td>\n",
       "      <td>22.015917</td>\n",
       "    </tr>\n",
       "    <tr>\n",
       "      <th>std</th>\n",
       "      <td>3.559358</td>\n",
       "      <td>4.797057</td>\n",
       "    </tr>\n",
       "    <tr>\n",
       "      <th>min</th>\n",
       "      <td>8.630000</td>\n",
       "      <td>15.687000</td>\n",
       "    </tr>\n",
       "    <tr>\n",
       "      <th>25%</th>\n",
       "      <td>11.895250</td>\n",
       "      <td>18.716750</td>\n",
       "    </tr>\n",
       "    <tr>\n",
       "      <th>50%</th>\n",
       "      <td>14.356500</td>\n",
       "      <td>21.017500</td>\n",
       "    </tr>\n",
       "    <tr>\n",
       "      <th>75%</th>\n",
       "      <td>16.200750</td>\n",
       "      <td>24.051500</td>\n",
       "    </tr>\n",
       "    <tr>\n",
       "      <th>max</th>\n",
       "      <td>22.328000</td>\n",
       "      <td>35.255000</td>\n",
       "    </tr>\n",
       "  </tbody>\n",
       "</table>\n",
       "</div>"
      ],
      "text/plain": [
       "       Congruent  Incongruent\n",
       "count  24.000000    24.000000\n",
       "mean   14.051125    22.015917\n",
       "std     3.559358     4.797057\n",
       "min     8.630000    15.687000\n",
       "25%    11.895250    18.716750\n",
       "50%    14.356500    21.017500\n",
       "75%    16.200750    24.051500\n",
       "max    22.328000    35.255000"
      ]
     },
     "execution_count": 1,
     "metadata": {},
     "output_type": "execute_result"
    }
   ],
   "source": [
    "# Load the data and packages\n",
    "%matplotlib inline\n",
    "import numpy as np\n",
    "import pandas as pd\n",
    "import matplotlib.pyplot as plt\n",
    "from scipy.stats import t\n",
    "from scipy.stats import ttest_rel\n",
    "df=pd.read_csv(\"stroopdata.csv\")\n",
    "df.describe()"
   ]
  },
  {
   "cell_type": "markdown",
   "metadata": {},
   "source": [
    "The above results show that the mean(```mean```), standard deviation(```std```), and median(```50%```) of *incongruent* group are all larger than *congruent* group."
   ]
  },
  {
   "cell_type": "markdown",
   "metadata": {},
   "source": [
    "### 4. Provide one or two visualizations that show the distribution of the sample data. Write one or two sentences noting what you observe about the plot or plots."
   ]
  },
  {
   "cell_type": "code",
   "execution_count": 2,
   "metadata": {
    "collapsed": false
   },
   "outputs": [
    {
     "data": {
      "text/plain": [
       "<matplotlib.legend.Legend at 0x10ec51c18>"
      ]
     },
     "execution_count": 2,
     "metadata": {},
     "output_type": "execute_result"
    },
    {
     "data": {
      "image/png": "[encoded data removed]",
      "text/plain": [
       "<matplotlib.figure.Figure at 0x10ebb4dd8>"
      ]
     },
     "metadata": {},
     "output_type": "display_data"
    }
   ],
   "source": [
    "df[\"Congruent\"].hist(alpha=0.5,label=\"Congruent\")\n",
    "df[\"Incongruent\"].hist(alpha=0.5,label=\"Incongruent\")\n",
    "plt.legend()"
   ]
  },
  {
   "cell_type": "markdown",
   "metadata": {},
   "source": [
    "From the histograms of the sample data we can easily see that the values in the group *Incongruent* is generally larger than the group *Congruent*. Along with the results of descriptive statistics in the previous question, we may be confident to say that the response time of *Incongruent* group is larger than *Congruent* group. This can be further elaborated with statistical languages in the next question."
   ]
  },
  {
   "cell_type": "markdown",
   "metadata": {},
   "source": [
    "### 5. Now, perform the statistical test and report your results. What is your confidence level and your critical statistic value? Do you reject the null hypothesis or fail to reject it? Come to a conclusion in terms of the experiment task. Did the results match up with your expectations?"
   ]
  },
  {
   "cell_type": "markdown",
   "metadata": {},
   "source": [
    "Since we are using paired samples test, the degrees of freedom of t-distribution is n/2-1 instead of n-1, where n is the total number of observations. In this experiment, we have 24 participants and 48 observations. Therefore, the degrees of freedom of the t-distribution is 23. The probability density function is drawn as below:"
   ]
  },
  {
   "cell_type": "code",
   "execution_count": 3,
   "metadata": {
    "collapsed": false
   },
   "outputs": [
    {
     "data": {
      "text/plain": [
       "<matplotlib.text.Text at 0x10ed1d9b0>"
      ]
     },
     "execution_count": 3,
     "metadata": {},
     "output_type": "execute_result"
    },
    {
     "data": {
      "image/png": "[encoded data removed]",
      "text/plain": [
       "<matplotlib.figure.Figure at 0x10ecc82e8>"
      ]
     },
     "metadata": {},
     "output_type": "display_data"
    }
   ],
   "source": [
    "dm=23 # degrees of freedom\n",
    "fig, ax = plt.subplots(1, 1)\n",
    "x = np.linspace(t.ppf(0.001, dm),\n",
    "              t.ppf(0.999, dm), 100)\n",
    "ax.plot(x, t.pdf(x, dm),\n",
    "         'r-', lw=5, alpha=0.6, label='t pdf')\n",
    "ax.set_xlabel(\"t-value\")\n",
    "ax.set_ylabel(\"probability\")"
   ]
  },
  {
   "cell_type": "markdown",
   "metadata": {},
   "source": [
    "For this test, we would like to set our confidence level to be 99%. Since we are using a two-tailed test, the corresponding one-tailed p-critical value for this confidence level is 0.005. The critical t-statistic value for this is +/-2.807. This is calcuclated by using ```ppf()``` method:"
   ]
  },
  {
   "cell_type": "code",
   "execution_count": 4,
   "metadata": {
    "collapsed": false
   },
   "outputs": [
    {
     "data": {
      "text/plain": [
       "-2.8073356837675236"
      ]
     },
     "execution_count": 4,
     "metadata": {},
     "output_type": "execute_result"
    }
   ],
   "source": [
    "t.ppf(0.005,dm)"
   ]
  },
  {
   "cell_type": "markdown",
   "metadata": {},
   "source": [
    "The t-statstic and p-value of the sample data can be calcuclated by using the function ```ttest_rel()``` in scipy:"
   ]
  },
  {
   "cell_type": "code",
   "execution_count": 5,
   "metadata": {
    "collapsed": false
   },
   "outputs": [
    {
     "name": "stdout",
     "output_type": "stream",
     "text": [
      "t-statistic:-8.02070694411\n",
      "p-value(two-tailed):4.10300058571e-08\n",
      "p-value(one-tailed):2.05150029286e-08\n"
     ]
    }
   ],
   "source": [
    "t_stat,p_val=ttest_rel(df[\"Congruent\"].values, df[\"Incongruent\"].values)\n",
    "print(\"t-statistic:%s\"%t_stat)\n",
    "print(\"p-value(two-tailed):%s\"%p_val)\n",
    "print(\"p-value(one-tailed):%s\"%(p_val/2))"
   ]
  },
  {
   "cell_type": "markdown",
   "metadata": {},
   "source": [
    "The calculated p-value (one-tailed) is much lower than the p-critical value. Therefore we can conclude that the null hypothesis is rejected with a confidence level more than 99%, indicating that incongruent words increase the response time of the participants. This result is consistent with my own experience and expectations."
   ]
  },
  {
   "cell_type": "markdown",
   "metadata": {},
   "source": [
    "### 6. Optional: What do you think is responsible for the effects observed? Can you think of an alternative or similar task that would result in a similar effect? Some research about the problem will be helpful for thinking about these two questions!\n",
    "This result may be due to that the processing of text and color are somehow coupled in our brain, thus it causes some delay in separating the information given by the text and color. An alternative test is letting the participants take the the following two tests:\n",
    "1. Give the participants a series of colored words that are irrelavant to colors, such as <font color=\"red\">SPOON</font>, <font color=\"blue\">TABLE</font>, <font color=\"orange\">DESK</font> or <font color=\"purple\">CHAIR</font>\n",
    "2. Give the participants a series of colored words that are the congruent or incongurent to the colors, such as <font color=\"red\">RED</font>, <font color=\"blue\">BLUE</font>, <font color=\"orange\">PURPLE</font> or <font color=\"purple\">ORANGE</font>. Again, we can measure the time required for the participants to name the color. In this way, we may be able to obtain similar effects as we discovered in the original test."
   ]
  },
  {
   "cell_type": "markdown",
   "metadata": {},
   "source": [
    "## References\n",
    "1. Jeremy Orloff, and Jonathan Bloom. 18.05 Introduction to Probability and Statistics, Spring 2014. (Massachusetts Institute of Technology: MIT OpenCourseWare), http://ocw.mit.edu (Accessed 6 Sep, 2015). License: Creative Commons BY-NC-SA\n",
    "2. Paired difference test. (2015, June 23). In Wikipedia, The Free Encyclopedia. Retrieved 08:48, September 6, 2015, from [https://en.wikipedia.org/w/index.php?title=Paired_difference_test&oldid=668330276](https://en.wikipedia.org/w/index.php?title=Paired_difference_test&oldid=668330276)\n",
    "3. Student's t-test. (2015, August 13). In Wikipedia, The Free Encyclopedia. Retrieved 08:49, September 6, 2015, from [https://en.wikipedia.org/w/index.php?title=Student%27s_t-test&oldid=675920924](https://en.wikipedia.org/w/index.php?title=Student%27s_t-test&oldid=675920924).\n",
    "4. [t-distribution in python SciPy](http://docs.scipy.org/doc/scipy-0.14.0/reference/generated/scipy.stats.t.html)\n",
    "5. [Dependent two-sample t-test using python SciPy](http://docs.scipy.org/doc/scipy/reference/generated/scipy.stats.ttest_rel.html)\n",
    "6. [When to use a t-score](http://www.statisticshowto.com/when-to-use-a-t-score-vs-z-score/)"
   ]
  }
 ],
 "metadata": {
  "kernelspec": {
   "display_name": "Python 3",
   "language": "python",
   "name": "python3"
  },
  "language_info": {
   "codemirror_mode": {
    "name": "ipython",
    "version": 3
   },
   "file_extension": ".py",
   "mimetype": "text/x-python",
   "name": "python",
   "nbconvert_exporter": "python",
   "pygments_lexer": "ipython3",
   "version": "3.4.2"
  }
 },
 "nbformat": 4,
 "nbformat_minor": 0
}
