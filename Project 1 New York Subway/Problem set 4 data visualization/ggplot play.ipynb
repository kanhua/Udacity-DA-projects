{
 "cells": [
  {
   "cell_type": "code",
   "execution_count": 1,
   "metadata": {
    "collapsed": true
   },
   "outputs": [],
   "source": [
    "%matplotlib inline\n",
    "import pandas as pd\n",
    "import matplotlib.pyplot as plt"
   ]
  },
  {
   "cell_type": "code",
   "execution_count": 2,
   "metadata": {
    "collapsed": true
   },
   "outputs": [],
   "source": [
    "weather_data=pd.read_csv(\"turnstile_data_master_with_weather.csv\")"
   ]
  },
  {
   "cell_type": "code",
   "execution_count": 3,
   "metadata": {
    "collapsed": false
   },
   "outputs": [
    {
     "data": {
      "text/plain": [
       "Index(['Unnamed: 0', 'UNIT', 'DATEn', 'TIMEn', 'Hour', 'DESCn', 'ENTRIESn_hourly', 'EXITSn_hourly', 'maxpressurei', 'maxdewpti', 'mindewpti', 'minpressurei', 'meandewpti', 'meanpressurei', 'fog', 'rain', 'meanwindspdi', 'mintempi', 'meantempi', 'maxtempi', 'precipi', 'thunder'], dtype='object')"
      ]
     },
     "execution_count": 3,
     "metadata": {},
     "output_type": "execute_result"
    }
   ],
   "source": [
    "weather_data.columns"
   ]
  },
  {
   "cell_type": "code",
   "execution_count": 4,
   "metadata": {
    "collapsed": false
   },
   "outputs": [
    {
     "data": {
      "text/html": [
       "<div style=\"max-height:1000px;max-width:1500px;overflow:auto;\">\n",
       "<table border=\"1\" class=\"dataframe\">\n",
       "  <thead>\n",
       "    <tr style=\"text-align: right;\">\n",
       "      <th></th>\n",
       "      <th>Unnamed: 0</th>\n",
       "      <th>UNIT</th>\n",
       "      <th>DATEn</th>\n",
       "      <th>TIMEn</th>\n",
       "      <th>Hour</th>\n",
       "      <th>DESCn</th>\n",
       "      <th>ENTRIESn_hourly</th>\n",
       "      <th>EXITSn_hourly</th>\n",
       "      <th>maxpressurei</th>\n",
       "      <th>maxdewpti</th>\n",
       "      <th>...</th>\n",
       "      <th>meandewpti</th>\n",
       "      <th>meanpressurei</th>\n",
       "      <th>fog</th>\n",
       "      <th>rain</th>\n",
       "      <th>meanwindspdi</th>\n",
       "      <th>mintempi</th>\n",
       "      <th>meantempi</th>\n",
       "      <th>maxtempi</th>\n",
       "      <th>precipi</th>\n",
       "      <th>thunder</th>\n",
       "    </tr>\n",
       "  </thead>\n",
       "  <tbody>\n",
       "    <tr>\n",
       "      <th>0</th>\n",
       "      <td> 0</td>\n",
       "      <td> R001</td>\n",
       "      <td> 2011-05-01</td>\n",
       "      <td> 01:00:00</td>\n",
       "      <td>  1</td>\n",
       "      <td> REGULAR</td>\n",
       "      <td>    0</td>\n",
       "      <td>    0</td>\n",
       "      <td> 30.31</td>\n",
       "      <td> 42</td>\n",
       "      <td>...</td>\n",
       "      <td> 39</td>\n",
       "      <td> 30.27</td>\n",
       "      <td> 0</td>\n",
       "      <td> 0</td>\n",
       "      <td> 5</td>\n",
       "      <td> 50</td>\n",
       "      <td> 60</td>\n",
       "      <td> 69</td>\n",
       "      <td> 0</td>\n",
       "      <td> 0</td>\n",
       "    </tr>\n",
       "    <tr>\n",
       "      <th>1</th>\n",
       "      <td> 1</td>\n",
       "      <td> R001</td>\n",
       "      <td> 2011-05-01</td>\n",
       "      <td> 05:00:00</td>\n",
       "      <td>  5</td>\n",
       "      <td> REGULAR</td>\n",
       "      <td>  217</td>\n",
       "      <td>  553</td>\n",
       "      <td> 30.31</td>\n",
       "      <td> 42</td>\n",
       "      <td>...</td>\n",
       "      <td> 39</td>\n",
       "      <td> 30.27</td>\n",
       "      <td> 0</td>\n",
       "      <td> 0</td>\n",
       "      <td> 5</td>\n",
       "      <td> 50</td>\n",
       "      <td> 60</td>\n",
       "      <td> 69</td>\n",
       "      <td> 0</td>\n",
       "      <td> 0</td>\n",
       "    </tr>\n",
       "    <tr>\n",
       "      <th>2</th>\n",
       "      <td> 2</td>\n",
       "      <td> R001</td>\n",
       "      <td> 2011-05-01</td>\n",
       "      <td> 09:00:00</td>\n",
       "      <td>  9</td>\n",
       "      <td> REGULAR</td>\n",
       "      <td>  890</td>\n",
       "      <td> 1262</td>\n",
       "      <td> 30.31</td>\n",
       "      <td> 42</td>\n",
       "      <td>...</td>\n",
       "      <td> 39</td>\n",
       "      <td> 30.27</td>\n",
       "      <td> 0</td>\n",
       "      <td> 0</td>\n",
       "      <td> 5</td>\n",
       "      <td> 50</td>\n",
       "      <td> 60</td>\n",
       "      <td> 69</td>\n",
       "      <td> 0</td>\n",
       "      <td> 0</td>\n",
       "    </tr>\n",
       "    <tr>\n",
       "      <th>3</th>\n",
       "      <td> 3</td>\n",
       "      <td> R001</td>\n",
       "      <td> 2011-05-01</td>\n",
       "      <td> 13:00:00</td>\n",
       "      <td> 13</td>\n",
       "      <td> REGULAR</td>\n",
       "      <td> 2451</td>\n",
       "      <td> 3708</td>\n",
       "      <td> 30.31</td>\n",
       "      <td> 42</td>\n",
       "      <td>...</td>\n",
       "      <td> 39</td>\n",
       "      <td> 30.27</td>\n",
       "      <td> 0</td>\n",
       "      <td> 0</td>\n",
       "      <td> 5</td>\n",
       "      <td> 50</td>\n",
       "      <td> 60</td>\n",
       "      <td> 69</td>\n",
       "      <td> 0</td>\n",
       "      <td> 0</td>\n",
       "    </tr>\n",
       "    <tr>\n",
       "      <th>4</th>\n",
       "      <td> 4</td>\n",
       "      <td> R001</td>\n",
       "      <td> 2011-05-01</td>\n",
       "      <td> 17:00:00</td>\n",
       "      <td> 17</td>\n",
       "      <td> REGULAR</td>\n",
       "      <td> 4400</td>\n",
       "      <td> 2501</td>\n",
       "      <td> 30.31</td>\n",
       "      <td> 42</td>\n",
       "      <td>...</td>\n",
       "      <td> 39</td>\n",
       "      <td> 30.27</td>\n",
       "      <td> 0</td>\n",
       "      <td> 0</td>\n",
       "      <td> 5</td>\n",
       "      <td> 50</td>\n",
       "      <td> 60</td>\n",
       "      <td> 69</td>\n",
       "      <td> 0</td>\n",
       "      <td> 0</td>\n",
       "    </tr>\n",
       "  </tbody>\n",
       "</table>\n",
       "<p>5 rows × 22 columns</p>\n",
       "</div>"
      ],
      "text/plain": [
       "   Unnamed: 0  UNIT       DATEn     TIMEn  Hour    DESCn  ENTRIESn_hourly  \\\n",
       "0           0  R001  2011-05-01  01:00:00     1  REGULAR                0   \n",
       "1           1  R001  2011-05-01  05:00:00     5  REGULAR              217   \n",
       "2           2  R001  2011-05-01  09:00:00     9  REGULAR              890   \n",
       "3           3  R001  2011-05-01  13:00:00    13  REGULAR             2451   \n",
       "4           4  R001  2011-05-01  17:00:00    17  REGULAR             4400   \n",
       "\n",
       "   EXITSn_hourly  maxpressurei  maxdewpti   ...     meandewpti  meanpressurei  \\\n",
       "0              0         30.31         42   ...             39          30.27   \n",
       "1            553         30.31         42   ...             39          30.27   \n",
       "2           1262         30.31         42   ...             39          30.27   \n",
       "3           3708         30.31         42   ...             39          30.27   \n",
       "4           2501         30.31         42   ...             39          30.27   \n",
       "\n",
       "   fog  rain  meanwindspdi  mintempi  meantempi  maxtempi  precipi  thunder  \n",
       "0    0     0             5        50         60        69        0        0  \n",
       "1    0     0             5        50         60        69        0        0  \n",
       "2    0     0             5        50         60        69        0        0  \n",
       "3    0     0             5        50         60        69        0        0  \n",
       "4    0     0             5        50         60        69        0        0  \n",
       "\n",
       "[5 rows x 22 columns]"
      ]
     },
     "execution_count": 4,
     "metadata": {},
     "output_type": "execute_result"
    }
   ],
   "source": [
    "weather_data.head()"
   ]
  },
  {
   "cell_type": "code",
   "execution_count": 5,
   "metadata": {
    "collapsed": false
   },
   "outputs": [],
   "source": [
    "rain_data=weather_data.loc[weather_data[\"rain\"]==1,:]\n",
    "no_rain_data=weather_data.loc[weather_data[\"rain\"]==0,:]"
   ]
  },
  {
   "cell_type": "code",
   "execution_count": 6,
   "metadata": {
    "collapsed": false
   },
   "outputs": [
    {
     "data": {
      "text/plain": [
       "<matplotlib.axes._subplots.AxesSubplot at 0x10bfbc160>"
      ]
     },
     "execution_count": 6,
     "metadata": {},
     "output_type": "execute_result"
    },
    {
     "data": {
      "image/png": "[encoded data removed]",
      "text/plain": [
       "<matplotlib.figure.Figure at 0x10bfd92e8>"
      ]
     },
     "metadata": {},
     "output_type": "display_data"
    }
   ],
   "source": [
    "plt.figure()\n",
    "rain_data[\"ENTRIESn_hourly\"].hist(alpha=0.5)\n",
    "no_rain_data[\"ENTRIESn_hourly\"].hist(alpha=0.5)"
   ]
  },
  {
   "cell_type": "code",
   "execution_count": 7,
   "metadata": {
    "collapsed": false
   },
   "outputs": [
    {
     "data": {
      "text/plain": [
       "<matplotlib.axes._subplots.AxesSubplot at 0x10afce7b8>"
      ]
     },
     "execution_count": 7,
     "metadata": {},
     "output_type": "execute_result"
    },
    {
     "data": {
      "image/png": "[encoded data removed]",
      "text/plain": [
       "<matplotlib.figure.Figure at 0x10bfbc6a0>"
      ]
     },
     "metadata": {},
     "output_type": "display_data"
    }
   ],
   "source": [
    "plt.figure()\n",
    "rain_data[\"EXITSn_hourly\"].hist(alpha=0.5)\n",
    "no_rain_data[\"EXITSn_hourly\"].hist(alpha=0.5)"
   ]
  },
  {
   "cell_type": "code",
   "execution_count": 10,
   "metadata": {
    "collapsed": false
   },
   "outputs": [
    {
     "data": {
      "text/plain": [
       "Unnamed: 0           int64\n",
       "UNIT                object\n",
       "DATEn               object\n",
       "TIMEn               object\n",
       "Hour                 int64\n",
       "DESCn               object\n",
       "ENTRIESn_hourly    float64\n",
       "EXITSn_hourly      float64\n",
       "maxpressurei       float64\n",
       "maxdewpti          float64\n",
       "mindewpti          float64\n",
       "minpressurei       float64\n",
       "meandewpti         float64\n",
       "meanpressurei      float64\n",
       "fog                float64\n",
       "rain               float64\n",
       "meanwindspdi       float64\n",
       "mintempi           float64\n",
       "meantempi          float64\n",
       "maxtempi           float64\n",
       "precipi            float64\n",
       "thunder            float64\n",
       "dtype: object"
      ]
     },
     "execution_count": 10,
     "metadata": {},
     "output_type": "execute_result"
    }
   ],
   "source": [
    "weather_data.dtypes"
   ]
  },
  {
   "cell_type": "code",
   "execution_count": 13,
   "metadata": {
    "collapsed": false
   },
   "outputs": [],
   "source": [
    "weather_data[\"UNIT\"]=weather_data[\"UNIT\"].astype('category')"
   ]
  },
  {
   "cell_type": "code",
   "execution_count": 12,
   "metadata": {
    "collapsed": false
   },
   "outputs": [
    {
     "data": {
      "text/plain": [
       "0     R001\n",
       "1     R001\n",
       "2     R001\n",
       "3     R001\n",
       "4     R001\n",
       "5     R001\n",
       "6     R002\n",
       "7     R002\n",
       "8     R002\n",
       "9     R002\n",
       "10    R002\n",
       "11    R002\n",
       "12    R003\n",
       "13    R003\n",
       "14    R003\n",
       "...\n",
       "131936    R552\n",
       "131937    R552\n",
       "131938    R552\n",
       "131939    R552\n",
       "131940    R552\n",
       "131941    R552\n",
       "131942    R552\n",
       "131943    R552\n",
       "131944    R552\n",
       "131945    R552\n",
       "131946    R552\n",
       "131947    R552\n",
       "131948    R552\n",
       "131949    R552\n",
       "131950    R552\n",
       "Name: UNIT, Length: 131951, dtype: object"
      ]
     },
     "execution_count": 12,
     "metadata": {},
     "output_type": "execute_result"
    }
   ],
   "source": [
    "weather_data[\"UNIT\"]"
   ]
  },
  {
   "cell_type": "code",
   "execution_count": 14,
   "metadata": {
    "collapsed": false
   },
   "outputs": [
    {
     "data": {
      "text/plain": [
       "0     R001\n",
       "1     R001\n",
       "2     R001\n",
       "3     R001\n",
       "4     R001\n",
       "5     R001\n",
       "6     R002\n",
       "7     R002\n",
       "8     R002\n",
       "9     R002\n",
       "10    R002\n",
       "11    R002\n",
       "12    R003\n",
       "13    R003\n",
       "14    R003\n",
       "...\n",
       "131936    R552\n",
       "131937    R552\n",
       "131938    R552\n",
       "131939    R552\n",
       "131940    R552\n",
       "131941    R552\n",
       "131942    R552\n",
       "131943    R552\n",
       "131944    R552\n",
       "131945    R552\n",
       "131946    R552\n",
       "131947    R552\n",
       "131948    R552\n",
       "131949    R552\n",
       "131950    R552\n",
       "Name: UNIT, Length: 131951, dtype: category\n",
       "Categories (465, object): [R001 < R002 < R003 < R004 ... R549 < R550 < R551 < R552]"
      ]
     },
     "execution_count": 14,
     "metadata": {},
     "output_type": "execute_result"
    }
   ],
   "source": [
    "weather_data[\"UNIT\"]"
   ]
  },
  {
   "cell_type": "code",
   "execution_count": null,
   "metadata": {
    "collapsed": true
   },
   "outputs": [],
   "source": []
  }
 ],
 "metadata": {
  "kernelspec": {
   "display_name": "Python 3",
   "language": "python",
   "name": "python3"
  },
  "language_info": {
   "codemirror_mode": {
    "name": "ipython",
    "version": 3
   },
   "file_extension": ".py",
   "mimetype": "text/x-python",
   "name": "python",
   "nbconvert_exporter": "python",
   "pygments_lexer": "ipython3",
   "version": "3.4.2"
  }
 },
 "nbformat": 4,
 "nbformat_minor": 0
}
