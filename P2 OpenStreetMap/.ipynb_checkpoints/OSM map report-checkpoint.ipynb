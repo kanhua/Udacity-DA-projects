{
 "cells": [
  {
   "cell_type": "markdown",
   "metadata": {},
   "source": [
    "# Data Wrangle OpenStreetMaps Data"
   ]
  },
  {
   "cell_type": "markdown",
   "metadata": {},
   "source": [
    "## The data\n",
    "We choose the OpenStreetMaps data of the Greater London area. The data is downloaded from [MapZen.com](http://Mapzen.com). To run the codes, download the osm file and move it into the folder ```./osm data/```.\n",
    "## Lesson 6 problems\n",
    "The code is in [parse_osm_data.py](./parse_osm_data.py).\n",
    "## Problems encountered in this map\n",
    "### Tags of the data\n",
    "To parse the osm data into JSON, we have two default field names ```type``` and ```address```, and then we add every second level tag \"k\" value as the new field name. However, some second level tag \"k\" has values ```type``` and ```address```. Therefore we add the following codes into the ```shape_element(element)``` in ```parse_osm_data.py``` to add a suffix ```_tag``` if the the tag \"k\" has values ```type``` or ```address```:\n",
    "```python\n",
    "if atrb==\"address\" or atrb==\"type\":\n",
    "    atrb=atrb+\"_tag\"\n",
    "```\n",
    "\n",
    "### Network features\n",
    "Rail stations or bus stops in this data have a tag ```network``` to specify which tranportation network that the node belongs to. For instance, an London Underground station has a tag that looks like this:\n",
    "```xml\n",
    "<tag k=\"network\" v=\"London Underground\"/>\n",
    "```\n",
    "Some stations serve two or more transportation network, the second level tag ```v``` will then have more than one values separated by ```;```. For example:\n",
    "```xml\n",
    "<tag k=\"network\" v=\"National Rail;London Underground\"/>\n",
    "```\n",
    "As a result, we have to parse the second level tag ```v``` into an array in order to interpretet the data properly. In the above example, the resulting JSON file becomes:\n",
    "```\n",
    "{'network': ['National Rail', 'London Underground']}\n",
    "```\n",
    "The function that performs this conversion is ```parse_network_str``` in ```process_network.py```.\n",
    "\n",
    "### Validation of postcodes\n",
    "Each UK postcode has two parts, for example, W2 1BT. The first part is the area codes, which represents a big area. The second part represents a small unit, such as a street or a building. Some rules of UK postcodes can be found in the following pages:\n",
    "\n",
    "https://en.wikipedia.org/wiki/London_postal_district\n",
    "\n",
    "https://en.wikipedia.org/wiki/Postcodes_in_the_United_Kingdom\n",
    "\n",
    "We adopt the following rules to validate the postcodes in this data set:\n",
    "1. Take the last three digit and check if it matches the regular expression ```[0-9][A-Z][A-Z]```. For instance, *2NP* is a valid code, while *23G* is not.\n",
    "2. Validate the remaining postcode string by converting [these rules](https://en.wikipedia.org/wiki/Postcodes_in_the_United_Kingdom#Validation) to regular expression, which are summarized in the following table. In *Format* column, *A* indicates an alphabet and *9* indicates a number.\n",
    "\n",
    "| Format | Regular expression of valid area codes|\n",
    "| ------------- | ----------- |\n",
    "| AA9A      |```WC[0-9][A-Z]```,```EC[1234][A-Z]```,```(NW1W)```,```SE1P```,```SW1[A-Z]```|\n",
    "| A9A     | ```W1[ABCDEFGHJKPSTUW]```,```E1W```,```N1C```,```N1P```|\n",
    "| A9 or A99|```[BEGLMNSW][0-9][0-9]*```|\n",
    "|AA9 or AA99|```[ABCDEFGHIJKLMNOPRSTUWYZ][ABCDEFGHKLMNOPQRSTUVWXY][0-9][0-9]*)```|\n",
    "\n",
    "These principles only provide \"first order\" filtering of UK postcodes. To complete verify each postcodes, assistance of UK postcodes database such as [Royal Mail PAF](http://www.royalmail.com/business/services/marketing/data-optimisation/paf) is required.\n",
    "\n",
    "The function that does this conversion is ```validate_uk_postcodes``` in ```process_network.py```."
   ]
  },
  {
   "cell_type": "markdown",
   "metadata": {},
   "source": [
    "## Overview of the Data\n",
    "### The size of data:\n",
    "- London_England.osm -- 2.31 GB\n",
    "- London_England.osm.json -- 3.21 GB"
   ]
  },
  {
   "cell_type": "markdown",
   "metadata": {},
   "source": [
    "Import the data"
   ]
  },
  {
   "cell_type": "code",
   "execution_count": 1,
   "metadata": {
    "collapsed": false
   },
   "outputs": [],
   "source": [
    "import pandas as pd\n",
    "import ggplot as gp\n",
    "# Enter \"mongod --dbpath ~/MongoDBData/\" in terminal to initiate MongoDB server\n",
    "from pymongo import MongoClient\n",
    "client = MongoClient()\n",
    "db = client.osm"
   ]
  },
  {
   "cell_type": "markdown",
   "metadata": {},
   "source": [
    "Number of documents in the collection:"
   ]
  },
  {
   "cell_type": "code",
   "execution_count": 2,
   "metadata": {
    "collapsed": false
   },
   "outputs": [
    {
     "name": "stdout",
     "output_type": "stream",
     "text": [
      "11763955 documents are in the dataset\n"
     ]
    }
   ],
   "source": [
    "total_doc=db.london.find().count()\n",
    "print(\"%s documents are in the dataset\"%total_doc)"
   ]
  },
  {
   "cell_type": "markdown",
   "metadata": {},
   "source": [
    "Print one document"
   ]
  },
  {
   "cell_type": "code",
   "execution_count": 3,
   "metadata": {
    "collapsed": false
   },
   "outputs": [
    {
     "data": {
      "text/plain": [
       "{'_id': ObjectId('55d2e5dabc0c4d129716066c'),\n",
       " 'amenity': 'post_box',\n",
       " 'box_type': 'lamp_box',\n",
       " 'created': {'changeset': '5159524',\n",
       "  'timestamp': '2010-07-07T15:54:28Z',\n",
       "  'uid': '253958',\n",
       "  'user': 'user_253958',\n",
       "  'version': '3'},\n",
       " 'id': '26',\n",
       " 'pos': [51.93021, -0.274278],\n",
       " 'ref': 'SG4 118',\n",
       " 'type': 'node'}"
      ]
     },
     "execution_count": 3,
     "metadata": {},
     "output_type": "execute_result"
    }
   ],
   "source": [
    "db.london.find_one()"
   ]
  },
  {
   "cell_type": "markdown",
   "metadata": {},
   "source": [
    "### Number of nodes and ways\n",
    "Number of ```nodes```"
   ]
  },
  {
   "cell_type": "code",
   "execution_count": 4,
   "metadata": {
    "collapsed": false
   },
   "outputs": [
    {
     "data": {
      "text/plain": [
       "10311851"
      ]
     },
     "execution_count": 4,
     "metadata": {},
     "output_type": "execute_result"
    }
   ],
   "source": [
    "db.london.find({\"type\":\"node\"}).count()"
   ]
  },
  {
   "cell_type": "markdown",
   "metadata": {},
   "source": [
    "Number of ```way```"
   ]
  },
  {
   "cell_type": "code",
   "execution_count": 5,
   "metadata": {
    "collapsed": false
   },
   "outputs": [
    {
     "data": {
      "text/plain": [
       "1452104"
      ]
     },
     "execution_count": 5,
     "metadata": {},
     "output_type": "execute_result"
    }
   ],
   "source": [
    "db.london.find({\"type\":\"way\"}).count()"
   ]
  },
  {
   "cell_type": "code",
   "execution_count": 6,
   "metadata": {
    "collapsed": false
   },
   "outputs": [
    {
     "data": {
      "text/plain": [
       "['node', 'way']"
      ]
     },
     "execution_count": 6,
     "metadata": {},
     "output_type": "execute_result"
    }
   ],
   "source": [
    "db.london.distinct(\"type\")"
   ]
  },
  {
   "cell_type": "code",
   "execution_count": 7,
   "metadata": {
    "collapsed": false
   },
   "outputs": [
    {
     "name": "stdout",
     "output_type": "stream",
     "text": [
      "468780 documents have names.\n",
      "That is, only 3.9848843352426973% of documents have names.\n"
     ]
    }
   ],
   "source": [
    "total_named_doc=db.london.find({\"name\":{\"$exists\":1}}).count()\n",
    "print(\"%s documents have names.\"%total_named_doc)\n",
    "print(\"That is, only %s%% of documents have names.\"%(total_named_doc/total_doc*100))"
   ]
  },
  {
   "cell_type": "markdown",
   "metadata": {},
   "source": [
    "### Analysis of users who contributed to the map"
   ]
  },
  {
   "cell_type": "markdown",
   "metadata": {},
   "source": [
    "Number of unique users contributing to the map"
   ]
  },
  {
   "cell_type": "code",
   "execution_count": 8,
   "metadata": {
    "collapsed": false
   },
   "outputs": [
    {
     "data": {
      "text/plain": [
       "7756"
      ]
     },
     "execution_count": 8,
     "metadata": {},
     "output_type": "execute_result"
    }
   ],
   "source": [
    "len(db.london.distinct(\"created.uid\"))"
   ]
  },
  {
   "cell_type": "markdown",
   "metadata": {},
   "source": [
    "Find the top 10 contributing users"
   ]
  },
  {
   "cell_type": "code",
   "execution_count": 9,
   "metadata": {
    "collapsed": false
   },
   "outputs": [
    {
     "name": "stdout",
     "output_type": "stream",
     "text": [
      "{'_id': 'TimSC_Data_CC0_To_Andy_Allan', 'count': 469837}\n",
      "{'_id': 'The Maarssen Mapper', 'count': 467799}\n",
      "{'_id': 'Eriks Zelenka', 'count': 455467}\n",
      "{'_id': 'busdoc', 'count': 359380}\n",
      "{'_id': 'ca_hoot', 'count': 357349}\n",
      "{'_id': 'Johnmb', 'count': 314722}\n",
      "{'_id': 'Essex_Boy', 'count': 281843}\n",
      "{'_id': 'c2r', 'count': 231340}\n",
      "{'_id': 'Rondon237', 'count': 207332}\n",
      "{'_id': 'Tom Chance', 'count': 202412}\n"
     ]
    }
   ],
   "source": [
    "results=db.london.aggregate([{\"$group\":{\"_id\":\"$created.user\",\"count\":{\"$sum\":1}}},\\\n",
    "                        {\"$sort\":{\"count\":-1}},\n",
    "                        {\"$limit\":10}])\n",
    "for r in results:\n",
    "    print(r)"
   ]
  },
  {
   "cell_type": "markdown",
   "metadata": {},
   "source": [
    "### Analysis of postcodes\n",
    "Find the top 10 areas with valid postcodes nodes"
   ]
  },
  {
   "cell_type": "code",
   "execution_count": 10,
   "metadata": {
    "collapsed": false
   },
   "outputs": [
    {
     "name": "stdout",
     "output_type": "stream",
     "text": [
      "{'_id': 'NA', 'count': 351}\n",
      "{'_id': 'TN31', 'count': 304}\n",
      "{'_id': 'SW11', 'count': 61}\n",
      "{'_id': 'RH10', 'count': 52}\n",
      "{'_id': 'HA1', 'count': 39}\n",
      "{'_id': 'NW6', 'count': 31}\n",
      "{'_id': 'CR0', 'count': 29}\n",
      "{'_id': 'E18', 'count': 27}\n",
      "{'_id': 'N1', 'count': 25}\n",
      "{'_id': 'SE1', 'count': 23}\n"
     ]
    }
   ],
   "source": [
    "dd=db.london.aggregate([{\"$match\":{\"address.postcode_area\":{\"$exists\":1}}},\n",
    "                        {\"$group\":{\"_id\":\"$address.postcode_area\",\"count\":{\"$sum\":1}}},\n",
    "                       {\"$sort\":{\"count\":-1}},\n",
    "                       {\"$limit\": 10}])\n",
    "for ddd in dd:\n",
    "    print(ddd)"
   ]
  },
  {
   "cell_type": "markdown",
   "metadata": {},
   "source": [
    "Shows top 10 amenities"
   ]
  },
  {
   "cell_type": "code",
   "execution_count": 11,
   "metadata": {
    "collapsed": false
   },
   "outputs": [
    {
     "name": "stdout",
     "output_type": "stream",
     "text": [
      "{'_id': 'parking', 'count': 17318}\n",
      "{'_id': 'post_box', 'count': 12653}\n",
      "{'_id': 'pub', 'count': 7329}\n",
      "{'_id': 'school', 'count': 6092}\n",
      "{'_id': 'place_of_worship', 'count': 5817}\n",
      "{'_id': 'restaurant', 'count': 5797}\n",
      "{'_id': 'bicycle_parking', 'count': 5317}\n",
      "{'_id': 'bench', 'count': 5244}\n",
      "{'_id': 'cafe', 'count': 4178}\n",
      "{'_id': 'telephone', 'count': 3729}\n"
     ]
    }
   ],
   "source": [
    "results=db.london.aggregate([{\"$match\":{\"amenity\":{\"$exists\":1}}},\n",
    "                    {\"$group\":{\"_id\":\"$amenity\",\"count\":{\"$sum\":1}}},\n",
    "                    {\"$sort\":{\"count\":-1}},\n",
    "                             {\"$limit\":10}])\n",
    "for r in results:\n",
    "    print(r)"
   ]
  },
  {
   "cell_type": "code",
   "execution_count": null,
   "metadata": {
    "collapsed": true
   },
   "outputs": [],
   "source": [
    "results=db.london.aggregate([{\"$match\":{\"amenity\":{\"$exists\":1}}},\n",
    "                    {\"$group\":{\"_id\":\"$amenity\",\"count\":{\"$sum\":1}}},\n",
    "                    {\"$sort\":{\"count\":-1}}])\n"
   ]
  },
  {
   "cell_type": "markdown",
   "metadata": {},
   "source": [
    "Group the data by postcode area and amenties, and show the top ten counts."
   ]
  },
  {
   "cell_type": "code",
   "execution_count": 12,
   "metadata": {
    "collapsed": false
   },
   "outputs": [
    {
     "name": "stdout",
     "output_type": "stream",
     "text": [
      "{'_id': {'amenity': 'post_box', 'area': 'NA'}, 'count': 24}\n",
      "{'_id': {'amenity': 'cafe', 'area': 'CR0'}, 'count': 8}\n",
      "{'_id': {'amenity': 'pub', 'area': 'GU28'}, 'count': 5}\n",
      "{'_id': {'amenity': 'school', 'area': 'N16'}, 'count': 5}\n",
      "{'_id': {'amenity': 'restaurant', 'area': 'SE1'}, 'count': 4}\n",
      "{'_id': {'amenity': 'place_of_worship', 'area': 'GU26'}, 'count': 4}\n",
      "{'_id': {'amenity': 'school', 'area': 'NA'}, 'count': 4}\n",
      "{'_id': {'amenity': 'place_of_worship', 'area': 'SE1'}, 'count': 3}\n",
      "{'_id': {'amenity': 'restaurant', 'area': 'TN1'}, 'count': 3}\n",
      "{'_id': {'amenity': 'kindergarten', 'area': 'CR0'}, 'count': 3}\n"
     ]
    }
   ],
   "source": [
    "results=db.london.aggregate([{\"$match\":{\"amenity\":{\"$exists\":1},\"address.postcode_area\":{\"$exists\":1}}},\n",
    "                    {\"$group\":{\"_id\":{\"amenity\":\"$amenity\",\"area\":\"$address.postcode_area\"},\"count\":{\"$sum\":1}}},\n",
    "                    {\"$sort\":{\"count\":-1}},\n",
    "                             {\"$limit\":10}])\n",
    "for r in results:\n",
    "    print(r)"
   ]
  },
  {
   "cell_type": "markdown",
   "metadata": {
    "collapsed": true
   },
   "source": [
    "### Analysis of rail or underground stations"
   ]
  },
  {
   "cell_type": "markdown",
   "metadata": {},
   "source": [
    "Find the number of London underground stations"
   ]
  },
  {
   "cell_type": "code",
   "execution_count": 13,
   "metadata": {
    "collapsed": false
   },
   "outputs": [
    {
     "data": {
      "text/plain": [
       "300"
      ]
     },
     "execution_count": 13,
     "metadata": {},
     "output_type": "execute_result"
    }
   ],
   "source": [
    "db.london.find({\"network\":{\"$in\":[\"London Underground\"]},\"railway\":\"station\"}).count()"
   ]
  },
  {
   "cell_type": "markdown",
   "metadata": {},
   "source": [
    "Find all stations which provide both *London Underground* and *National Rail* services"
   ]
  },
  {
   "cell_type": "code",
   "execution_count": 14,
   "metadata": {
    "collapsed": false
   },
   "outputs": [
    {
     "name": "stdout",
     "output_type": "stream",
     "text": [
      "44 stations that these two networks.\n"
     ]
    }
   ],
   "source": [
    "results=db.london.find({\"network\":{\"$all\":[\"National Rail\",\"London Underground\"]},\n",
    "                \"railway\":\"station\"},{\"_id\":0,\"name\":1})\n",
    "print(\"%s stations that these two networks.\"%results.count())"
   ]
  },
  {
   "cell_type": "markdown",
   "metadata": {},
   "source": [
    "Find all stations that provides *National Rail*, *London Underground* and *London Overground* services"
   ]
  },
  {
   "cell_type": "code",
   "execution_count": 15,
   "metadata": {
    "collapsed": false
   },
   "outputs": [
    {
     "name": "stdout",
     "output_type": "stream",
     "text": [
      "12 stations have these three networks.\n"
     ]
    }
   ],
   "source": [
    "results=db.london.find({\"network\":{\"$all\":[\"National Rail\",\"London Underground\",\"London Overground\"]},\n",
    "                \"railway\":\"station\"},{\"_id\":0,\"name\":1})\n",
    "print(\"%s stations have these three networks.\"%results.count())"
   ]
  },
  {
   "cell_type": "markdown",
   "metadata": {},
   "source": [
    "Find all the rail stations in London that have four different networks:"
   ]
  },
  {
   "cell_type": "code",
   "execution_count": 16,
   "metadata": {
    "collapsed": false
   },
   "outputs": [
    {
     "name": "stdout",
     "output_type": "stream",
     "text": [
      "1\n",
      "{'name': 'London Liverpool Street'}\n"
     ]
    }
   ],
   "source": [
    "results=db.london.find({\"network\":{\"$size\":4},\"railway\":\"station\"},{\"_id\":0,\"name\":1})\n",
    "print(results.count())\n",
    "for r in results:\n",
    "    print(r)"
   ]
  },
  {
   "cell_type": "markdown",
   "metadata": {},
   "source": [
    "Find the railway station that has the largest number of networks:"
   ]
  },
  {
   "cell_type": "code",
   "execution_count": 17,
   "metadata": {
    "collapsed": false
   },
   "outputs": [
    {
     "name": "stdout",
     "output_type": "stream",
     "text": [
      "{'network': ['National Rail', 'London Underground', 'London Overground', 'TfL Rail', 'DLR'], 'name': 'Stratford', 'network_num': 5}\n"
     ]
    }
   ],
   "source": [
    "dd=db.london.aggregate([{\"$match\":{\"railway\":\"station\",\"name\":{\"$exists\":1},\"network\":{\"$exists\":1}}},\n",
    "                        {\"$project\":{\"_id\":0,\"name\":1,\"network_num\":{\"$size\":\"$network\"},\"network\":1}},\n",
    "                      {\"$sort\":{\"network_num\":-1}},\n",
    "                       {\"$limit\":1}])\n",
    "for ddd in dd:\n",
    "    print(ddd)"
   ]
  },
  {
   "cell_type": "markdown",
   "metadata": {},
   "source": [
    "### Reflection of data analysis"
   ]
  },
  {
   "cell_type": "markdown",
   "metadata": {},
   "source": [
    "## Other ideas about the dataset\n",
    "### Filtering the OSM file before converting it to JSON\n",
    "Although this dataset contains more than 10 million data entries, only very small portion of the data were given names and further edited. If these \"unedited\" data entries are not of interest, we can filter out these entries when converting the OSM file to JSON to save the processing time.\n",
    "### Using third-party datasets to validate or fill in missing data\n",
    "Large amount of data entries either miss addresses or contains inaccurate address information. This can be corrected by some third-party datasets or APIs such as [Royal Mail PAF](http://www.royalmail.com/business/services/marketing/data-optimisation/paf) or other [open data APIs](http://data.gov.uk/apps/uk-postcodes). These APIs allows UK address look up by entering GIS coordinates, which are in every entries of OSM data."
   ]
  },
  {
   "cell_type": "code",
   "execution_count": null,
   "metadata": {
    "collapsed": true
   },
   "outputs": [],
   "source": []
  }
 ],
 "metadata": {
  "kernelspec": {
   "display_name": "Python 3",
   "language": "python",
   "name": "python3"
  },
  "language_info": {
   "codemirror_mode": {
    "name": "ipython",
    "version": 3
   },
   "file_extension": ".py",
   "mimetype": "text/x-python",
   "name": "python",
   "nbconvert_exporter": "python",
   "pygments_lexer": "ipython3",
   "version": "3.4.2"
  }
 },
 "nbformat": 4,
 "nbformat_minor": 0
}
